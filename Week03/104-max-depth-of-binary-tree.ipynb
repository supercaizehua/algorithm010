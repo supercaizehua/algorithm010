{
 "metadata": {
  "language_info": {
   "codemirror_mode": {
    "name": "ipython",
    "version": 3
   },
   "file_extension": ".py",
   "mimetype": "text/x-python",
   "name": "python",
   "nbconvert_exporter": "python",
   "pygments_lexer": "ipython3",
   "version": 3
  },
  "orig_nbformat": 2,
  "kernelspec": {
   "name": "python_defaultSpec_1595816445969",
   "display_name": "Python 3.7.7 64-bit (conda)"
  }
 },
 "nbformat": 4,
 "nbformat_minor": 2,
 "cells": [
  {
   "source": [
    "# 104 二叉树最大深度  @supercaizehua\n",
    "----------------------------------\n",
    "给定二叉树, 输出最大深度"
   ],
   "cell_type": "markdown",
   "metadata": {}
  },
  {
   "cell_type": "code",
   "execution_count": 2,
   "metadata": {},
   "outputs": [],
   "source": [
    "class Solution:\n",
    "    def maxDepth(self, root) -> int:\n",
    "        pass"
   ]
  },
  {
   "source": [
    "## s1: 递归"
   ],
   "cell_type": "markdown",
   "metadata": {}
  },
  {
   "source": [
    "### 1.1 递归+ DFS\n",
    "最大深度 = max(左子树最大深度, 右子树最大深度) + 1               \n",
    "时间O(n)             \n",
    "空间O(n)              "
   ],
   "cell_type": "markdown",
   "metadata": {}
  },
  {
   "cell_type": "code",
   "execution_count": 3,
   "metadata": {},
   "outputs": [],
   "source": [
    "'''递归+DFS'''\n",
    "class Solution1_1:\n",
    "    def maxDepth(self, root) -> int:\n",
    "        if not root: return 0\n",
    "        return max(self.maxDepth(root.left), self.maxDepth(root.right)) + 1"
   ]
  },
  {
   "cell_type": "code",
   "execution_count": null,
   "metadata": {},
   "outputs": [],
   "source": [
    "'''手动栈 + DFS'''\n",
    "class Solution1_1_1:\n",
    "    def maxDepth(self, root):\n",
    "        ans, stack = 0, [(root, 0)]\n",
    "        while stack:\n",
    "            node, level = stack.pop()\n",
    "            if not node:\n",
    "                ans = max(ans, level)\n",
    "            else:\n",
    "                stack.append((node.right, level + 1))\n",
    "                stack.append((node.left, level + 1))\n",
    "        return ans"
   ]
  },
  {
   "source": [
    "## s2 BFS"
   ],
   "cell_type": "markdown",
   "metadata": {}
  },
  {
   "cell_type": "code",
   "execution_count": null,
   "metadata": {},
   "outputs": [],
   "source": [
    "class Solution2_1:\n",
    "    def maxDepth(self, root):\n",
    "        from collections import deque\n",
    "        ans, queue = 0, deque([(root, 0)])\n",
    "        while queue:\n",
    "            node, level = queue.popleft()\n",
    "            if not node:\n",
    "                ans = max(ans, level)\n",
    "            else:\n",
    "                queue.append((node.left, level + 1))\n",
    "                queue.append((node.right, level + 1))\n",
    "        return ans\n"
   ]
  }
 ]
}