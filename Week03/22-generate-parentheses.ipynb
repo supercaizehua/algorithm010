{
 "metadata": {
  "language_info": {
   "codemirror_mode": {
    "name": "ipython",
    "version": 3
   },
   "file_extension": ".py",
   "mimetype": "text/x-python",
   "name": "python",
   "nbconvert_exporter": "python",
   "pygments_lexer": "ipython3",
   "version": 3
  },
  "orig_nbformat": 2
 },
 "nbformat": 4,
 "nbformat_minor": 2,
 "cells": [
  {
   "source": [
    "## author:@supercaizehua\n",
    "------------------------\n",
    "# 70 爬楼梯\n",
    "输入 n n级楼梯           \n",
    "每次只能爬1级或2级, 有多少种不同的方式爬到n?"
   ],
   "cell_type": "markdown",
   "metadata": {}
  },
  {
   "cell_type": "code",
   "execution_count": null,
   "metadata": {},
   "outputs": [],
   "source": []
  }
 ]
}