{
 "metadata": {
  "language_info": {
   "codemirror_mode": {
    "name": "ipython",
    "version": 3
   },
   "file_extension": ".py",
   "mimetype": "text/x-python",
   "name": "python",
   "nbconvert_exporter": "python",
   "pygments_lexer": "ipython3",
   "version": 3
  },
  "orig_nbformat": 2,
  "kernelspec": {
   "name": "python_defaultSpec_1596009518549",
   "display_name": "Python 3.7.7 64-bit (conda)"
  }
 },
 "nbformat": 4,
 "nbformat_minor": 2,
 "cells": [
  {
   "source": [
    "# 47 全排列2 @supercaizehua\n",
    "-------------------------------------------------\n",
    "输入 可以包含重复数字的序列, 返回所有不重复的全排列"
   ],
   "cell_type": "markdown",
   "metadata": {}
  },
  {
   "source": [
    "https://leetcode-cn.com/problems/permutations-ii/solution/hui-su-suan-fa-python-dai-ma-java-dai-ma-by-liwe-2/\n",
    "\n",
    "## 回溯+ 剪枝"
   ],
   "cell_type": "markdown",
   "metadata": {}
  },
  {
   "cell_type": "code",
   "execution_count": null,
   "metadata": {},
   "outputs": [],
   "source": [
    "class solution1:\n",
    "    def permuteUnique(self, nums):\n",
    "\n",
    "        def dfs(nums, size, depth, path, used, ans):\n",
    "            if depth == size:\n",
    "                ans.append(path[:])\n",
    "                return \n",
    "            \n",
    "            for i in  range(size):\n",
    "                if not used[i]:\n",
    "\n",
    "                    if i > 0 and nums[i] == nums[i-1] and used[i-1] == False: \n",
    "                        continue\n",
    "\n",
    "                    used[i] = True\n",
    "                    path.append(nums[i])\n",
    "                    dfs(nums, size, depth + 1, path, used, ans)\n",
    "                    used[i] = False\n",
    "                    path.pop()\n",
    "        \n",
    "        size = len(nums)\n",
    "        if size == 0: return []\n",
    "\n",
    "        nums.sort()\n",
    "        used = [False] * size\n",
    "        dfs(nums, size, 0, [], used, ans)\n",
    "        return ans\n"
   ]
  },
  {
   "source": [
    "## 循环解法\n",
    "[1,2,3,4,...n]的全排列由[1,2,3,4,....,n-1]得出     \n",
    "对[1,2,3,4,5,......,n-1]的任意一个排列, 将n插入到其中不同的位置    \n",
    "利用set去重\n"
   ],
   "cell_type": "markdown",
   "metadata": {}
  },
  {
   "cell_type": "code",
   "execution_count": null,
   "metadata": {},
   "outputs": [],
   "source": [
    "class solution2:\n",
    "    def permuteUnique(self, nums):\n",
    "        ans = [[]]\n",
    "        for n in nums:\n",
    "            new_ans = []\n",
    "            for sub_ans in ans:\n",
    "                for i in range(len(sub_ans) + 1):\n",
    "                    new_ans.append(sub_ans[:i] + [n] + sub_ans[i:])\n",
    "                    # 避免重复\n",
    "                    if i < len(sub_ans) and sub_ans[i] == n: break\n",
    "            ans = new_ans\n",
    "        return ans"
   ]
  },
  {
   "cell_type": "code",
   "execution_count": null,
   "metadata": {},
   "outputs": [],
   "source": [
    "class solution3:\n",
    "    def permuteUnique(self, nums):\n",
    "        ans = [[]]\n",
    "        for n in nums:\n",
    "            ans = [l[:i] + [n] + l[i:] for l in ans for i in range((l + [n]).index(n) + 1)]\n",
    "        return ans"
   ]
  },
  {
   "source": [
    "'''递归实现'''\n",
    "class solution4:\n",
    "    def permuteUnique(self, nums):\n",
    "        if len(nums) == 1: return [nums]\n",
    "\n",
    "        sub_perms = self.permuteUnique(nums[:-1])\n",
    "        n = nums[-1]\n",
    "        ans = []\n",
    "\n",
    "        for sub_perm in sub_perms:\n",
    "            for i in range(len(sub_perm) + 1):\n",
    "                ans.append(sub_perm[:i] + [n] + sub_perm[i:])\n",
    "\n",
    "                if i < len(sub_perm) and sub_perm[i] == n:\n",
    "                    break\n",
    "        return ans\n"
   ],
   "cell_type": "code",
   "metadata": {},
   "execution_count": null,
   "outputs": []
  },
  {
   "cell_type": "code",
   "execution_count": null,
   "metadata": {},
   "outputs": [],
   "source": []
  }
 ]
}