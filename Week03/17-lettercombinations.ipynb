{
 "metadata": {
  "language_info": {
   "codemirror_mode": {
    "name": "ipython",
    "version": 3
   },
   "file_extension": ".py",
   "mimetype": "text/x-python",
   "name": "python",
   "nbconvert_exporter": "python",
   "pygments_lexer": "ipython3",
   "version": 3
  },
  "orig_nbformat": 2,
  "kernelspec": {
   "name": "python_defaultSpec_1596185638713",
   "display_name": "Python 3.7.7 64-bit (conda)"
  }
 },
 "nbformat": 4,
 "nbformat_minor": 2,
 "cells": [
  {
   "source": [
    "# 17. 电话号码的字母组合 @supercaizehua\n",
    "-----------------------------------------\n",
    "给定一个仅包含数字 2-9 的字符串，返回所有它能表示的字母组合。\n",
    "\n",
    "给出数字到字母的映射如下（与电话按键相同）。注意 1 不对应任何字母。"
   ],
   "cell_type": "markdown",
   "metadata": {}
  },
  {
   "source": [
    "## 回溯\n",
    "![](https://raw.githubusercontent.com/supercaizehua/images-for-blog/master/img/20200731171745.png)\n"
   ],
   "cell_type": "markdown",
   "metadata": {}
  },
  {
   "cell_type": "code",
   "execution_count": null,
   "metadata": {},
   "outputs": [],
   "source": [
    "class Solution:\n",
    "    def letterCombinations(self, digits: str) -> List[str]:\n",
    "        if not digits: return []\n",
    "        dic = {\"2\":'abc', \"3\":'def', \"4\":'ghi', \"5\":'jkl', \"6\":'mno', \"7\":'pqrs', \"8\":'tuv', \"9\":'wxyz'}\n",
    "        ans = []\n",
    "        path = []\n",
    "\n",
    "        def backtrack(string):\n",
    "            if len(path) == len(digits):\n",
    "                ans.append(''.join(path[:]))\n",
    "                return\n",
    "\n",
    "            for char in dic[string[0]]:\n",
    "                path.append(char)\n",
    "\n",
    "                backtrack(string[1:])\n",
    "\n",
    "                path.pop()\n",
    "        \n",
    "        backtrack(digits)\n",
    "        return ans"
   ]
  },
  {
   "source": [
    "## pythonic"
   ],
   "cell_type": "markdown",
   "metadata": {}
  },
  {
   "cell_type": "code",
   "execution_count": 19,
   "metadata": {},
   "outputs": [],
   "source": [
    "from typing import List"
   ]
  },
  {
   "cell_type": "code",
   "execution_count": 22,
   "metadata": {},
   "outputs": [],
   "source": [
    "class Solution:\n",
    "    def letterCombinations(self, digits: str) -> List[str]:\n",
    "        if not digits: return []\n",
    "        dic = {\"2\":'abc', \"3\":'def', \"4\":'ghi', \"5\":'jkl', \"6\":'mno', \"7\":'pqrs', \"8\":'tuv', \"9\":'wxyz'}\n",
    "\n",
    "        ans = ['']\n",
    "        for i in digits:\n",
    "            ans = [ans_ + char for ans_ in ans for char in dic[i]]\n",
    "        return ans"
   ]
  }
 ]
}