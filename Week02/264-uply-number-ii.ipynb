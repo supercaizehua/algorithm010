{
 "metadata": {
  "language_info": {
   "codemirror_mode": {
    "name": "ipython",
    "version": 3
   },
   "file_extension": ".py",
   "mimetype": "text/x-python",
   "name": "python",
   "nbconvert_exporter": "python",
   "pygments_lexer": "ipython3",
   "version": 3
  },
  "orig_nbformat": 2,
  "kernelspec": {
   "name": "python_defaultSpec_1595330801134",
   "display_name": "Python 3.7.7 64-bit (conda)"
  }
 },
 "nbformat": 4,
 "nbformat_minor": 2,
 "cells": [
  {
   "source": [
    "# 264-ugly-number-2   author:@supercaizehua\n",
    "## 理解题意\n",
    "寻找第n个丑数\n",
    "丑数的定义: 质因数只包含2,3,5  正整数\n",
    "1也是丑数\n",
    "\n",
    "其它条件: n 不超过1690"
   ],
   "cell_type": "markdown",
   "metadata": {}
  },
  {
   "source": [
    "## 暴力法\n",
    "超时\n"
   ],
   "cell_type": "markdown",
   "metadata": {}
  },
  {
   "cell_type": "code",
   "execution_count": 6,
   "metadata": {},
   "outputs": [],
   "source": [
    "class Solution:\n",
    "    def nthUglyNumber(self, n):\n",
    "        cnt = 0\n",
    "        result = 1\n",
    "        while cnt < n:\n",
    "            if self.isUgly(result):\n",
    "                cnt += 1\n",
    "            result += 1\n",
    "\n",
    "        return result - 1\n",
    "\n",
    "    def isUgly(self, num):\n",
    "        if num <= 0: return False\n",
    "        while num % 2 == 0:\n",
    "            num /= 2\n",
    "        while num % 3 == 0:\n",
    "            num /= 3\n",
    "        while num % 5 == 0:\n",
    "            num /= 5\n",
    "        return num == 1"
   ]
  },
  {
   "source": [
    "## 提前筛选\n",
    "因为所有的丑数都是之前的丑数和2,3,5相乘所得到, 所以可以提前在循环内计算出来\n",
    "超时"
   ],
   "cell_type": "markdown",
   "metadata": {}
  },
  {
   "cell_type": "code",
   "execution_count": 7,
   "metadata": {},
   "outputs": [],
   "source": [
    "class Solution2:\n",
    "    def nthUglyNumber(self, n):\n",
    "        cnt = 0\n",
    "        result = 1\n",
    "        cache = set()\n",
    "        cache.add(result)\n",
    "        while cnt < n:\n",
    "            if result in cache:\n",
    "                cnt+=1\n",
    "                cache.add(result * 2)\n",
    "                cache.add(result * 3)\n",
    "                cache.add(result * 5)\n",
    "            result += 1\n",
    "        return result - 1"
   ]
  },
  {
   "source": [
    "## 提前预计算 适合重复大量计算的结果 在leetcode后台重复使用之前计算好的结果\n",
    "## 堆"
   ],
   "cell_type": "markdown",
   "metadata": {}
  },
  {
   "cell_type": "code",
   "execution_count": 12,
   "metadata": {},
   "outputs": [],
   "source": [
    "import heapq\n",
    "class Ugly:\n",
    "    def __init__(self):\n",
    "        visited = {1}\n",
    "        self.nums = nums = []\n",
    "        heap = []\n",
    "        heapq.heappush(heap, 1)\n",
    "\n",
    "        for _ in range(1690):\n",
    "            curr_ugly = heapq.heappop(heap)\n",
    "            nums.append(curr_ugly)\n",
    "            for i in [2,3,5]:\n",
    "                new_ugly = curr_ugly * i\n",
    "                if new_ugly not in visited:\n",
    "                    visited.add(new_ugly)\n",
    "                    heapq.heappush(heap, new_ugly)\n",
    "\n",
    "class Solution:\n",
    "    u = Ugly()\n",
    "    def nthUglyNumber(self, n):\n",
    "        return self.u.nums[n-1]"
   ]
  },
  {
   "cell_type": "code",
   "execution_count": null,
   "metadata": {},
   "outputs": [],
   "source": [
    "import heapq as hq\n",
    "class Solution:\n",
    "    def nthUglyNumber(self, n):\n",
    "        visited = {1}\n",
    "        nums = []\n",
    "        heap = []\n",
    "        hq.heappush(heap, 1)\n",
    "\n",
    "        for _ in range(n):\n",
    "            curr = hq.heappop(heap)\n",
    "            nums.append(curr)\n",
    "            for i in [2,3,5]:\n",
    "                new = curr * i\n",
    "                if new not in visited:\n",
    "                    visited.add(new)\n",
    "                    hq.heappush(heap, new)\n",
    "        \n",
    "        return nums[n-1]"
   ]
  },
  {
   "source": [
    "## 三指针法/动态规划"
   ],
   "cell_type": "markdown",
   "metadata": {}
  },
  {
   "cell_type": "code",
   "execution_count": null,
   "metadata": {},
   "outputs": [],
   "source": [
    "class Ugly:\n",
    "    def __init__(self):\n",
    "        self.nums = nums = [1]\n",
    "        i2 = i3 = i5 = 0\n",
    "\n",
    "        for i in range(1, 1690):\n",
    "            ugly = min(nums[i2] * 2, nums[i3] * 3, nums[i5] * 5)\n",
    "            nums.append(ugly)\n",
    "\n",
    "            if ugly == nums[i2] * 2:\n",
    "                i2 += 1\n",
    "            if ugly == nums[i3] * 3:\n",
    "                i3 += 1\n",
    "            if ugly == nums[i5] * 5:\n",
    "                i5 += 1\n",
    "\n",
    "class Solution:\n",
    "    u = Ugly()\n",
    "    def nthUglyNumber(self, n):\n",
    "        return self.u.nums[n-1]"
   ]
  },
  {
   "cell_type": "code",
   "execution_count": null,
   "metadata": {},
   "outputs": [],
   "source": [
    "class Solution:\n",
    "    def nthUglyNumber(self, n):\n",
    "        nums = [1]\n",
    "        i2 = i3 = i5 = 0\n",
    "\n",
    "        for i in range(1, n):\n",
    "            Ugly = min(nums[i2] * 2, nums[i3] * 3, nums[i5] * 5)\n",
    "            nums.append(Ugly)\n",
    "            if ugly == nums[i2] * 2:\n",
    "                i2 += 1\n",
    "            if ugly == nums[i3] * 3:\n",
    "                i3 += 1\n",
    "            if ugly == nums[i5] * 5:\n",
    "                i5 += 1\n",
    "        return nums[n-1]"
   ]
  }
 ]
}