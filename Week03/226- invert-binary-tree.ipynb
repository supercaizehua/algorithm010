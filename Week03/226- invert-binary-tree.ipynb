{
 "metadata": {
  "language_info": {
   "codemirror_mode": {
    "name": "ipython",
    "version": 3
   },
   "file_extension": ".py",
   "mimetype": "text/x-python",
   "name": "python",
   "nbconvert_exporter": "python",
   "pygments_lexer": "ipython3",
   "version": 3
  },
  "orig_nbformat": 2,
  "kernelspec": {
   "name": "python_defaultSpec_1595689587815",
   "display_name": "Python 3.7.7 64-bit (conda)"
  }
 },
 "nbformat": 4,
 "nbformat_minor": 2,
 "cells": [
  {
   "source": [
    "## author: @supercaizehua\n",
    "-------------------------\n",
    "# 226 反转二叉树\n",
    "左右节点呼唤"
   ],
   "cell_type": "markdown",
   "metadata": {}
  },
  {
   "cell_type": "code",
   "execution_count": 2,
   "metadata": {},
   "outputs": [],
   "source": [
    "class TreeNode:\n",
    "    def __init__(self, x):\n",
    "        self.val = x\n",
    "        self.left = None\n",
    "        self.right = None\n"
   ]
  },
  {
   "source": [
    "## 1. 递归\n",
    "时间O(n) 节点个数, 每个节点遍历一次             \n",
    "空间O(n) 最坏情况需要 栈要存放h个方法调用, h为树的高度"
   ],
   "cell_type": "markdown",
   "metadata": {}
  },
  {
   "cell_type": "code",
   "execution_count": null,
   "metadata": {},
   "outputs": [],
   "source": [
    "class solution1:\n",
    "    def invertTree(self, root):\n",
    "        if not root: return None\n",
    "\n",
    "        cur_right = self.invertTree(root.right)\n",
    "        cur_left  = self.invertTree(root.left)\n",
    "\n",
    "        root.left = cur_right\n",
    "        root.right = cur_left\n",
    "\n",
    "        return root"
   ]
  },
  {
   "cell_type": "code",
   "execution_count": 3,
   "metadata": {},
   "outputs": [],
   "source": [
    "class Solution1_1:\n",
    "    def invertTree(self, root: TreeNode) -> TreeNode:\n",
    "        return None if not root else TreeNode(root.val, self.invertTree(root.right), self.invertTree(root.left))"
   ]
  },
  {
   "source": [
    "## 2.迭代 BFS\n",
    "时间 O(n)  所有节点只放问一次          \n",
    "空间O(n) 最坏情况下队列的长度"
   ],
   "cell_type": "markdown",
   "metadata": {}
  },
  {
   "cell_type": "code",
   "execution_count": null,
   "metadata": {},
   "outputs": [],
   "source": [
    "class solution2:\n",
    "    def invertTree(self, root):\n",
    "        if not root: return None\n",
    "        from collections import deque\n",
    "        queue = deque([root])\n",
    "        while queue:\n",
    "            curr = queue.popleft()\n",
    "            if curr.left: queue.append(curr.left)\n",
    "            if curr.right: queue.append(curr.right)\n",
    "            curr.left, curr.right = curr.right, curr.left\n",
    "        return root"
   ]
  }
 ]
}