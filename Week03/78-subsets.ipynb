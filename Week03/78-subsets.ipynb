{
 "metadata": {
  "language_info": {
   "codemirror_mode": {
    "name": "ipython",
    "version": 3
   },
   "file_extension": ".py",
   "mimetype": "text/x-python",
   "name": "python",
   "nbconvert_exporter": "python",
   "pygments_lexer": "ipython3",
   "version": 3
  },
  "orig_nbformat": 2,
  "kernelspec": {
   "name": "python_defaultSpec_1596162311752",
   "display_name": "Python 3.7.7 64-bit (conda)"
  }
 },
 "nbformat": 4,
 "nbformat_minor": 2,
 "cells": [
  {
   "source": [
    "# 78 子集   @supercaizehua\n",
    "-------------------------------\n",
    "输入一组不含重复元素的整数数组, 返回数组所有子集"
   ],
   "cell_type": "markdown",
   "metadata": {}
  },
  {
   "source": [
    "## S1 库函数"
   ],
   "cell_type": "markdown",
   "metadata": {}
  },
  {
   "cell_type": "code",
   "execution_count": 2,
   "metadata": {},
   "outputs": [],
   "source": [
    "class solution:\n",
    "    def subsets(self, nums):\n",
    "        from itertools import combinations\n",
    "        ans = []\n",
    "        for i in range(len(nums) + 1):\n",
    "            for temp in combinations(nums, i):\n",
    "                ans.append(temp)\n",
    "        return ans"
   ]
  },
  {
   "source": [
    "## 迭代"
   ],
   "cell_type": "markdown",
   "metadata": {}
  },
  {
   "cell_type": "code",
   "execution_count": null,
   "metadata": {},
   "outputs": [],
   "source": [
    "class solution:\n",
    "    def subsets(self, nums):\n",
    "        ans = [[]]\n",
    "        for i in nums:\n",
    "            ans = ans + [[i] + num for num in ans]\n",
    "        return ans"
   ]
  },
  {
   "source": [
    "## 回溯"
   ],
   "cell_type": "markdown",
   "metadata": {}
  },
  {
   "cell_type": "code",
   "execution_count": null,
   "metadata": {},
   "outputs": [],
   "source": [
    "'''回溯过程记录节点'''\n",
    "class solution:\n",
    "    def subsets(self, nums):\n",
    "        n = len(nums)\n",
    "        if not n: return []\n",
    "        ans, path = [], []\n",
    "        \n",
    "        def dfs(start):\n",
    "            ans.append(path[:])\n",
    "\n",
    "            for i in range(start, n):\n",
    "                path.append(nums[i])\n",
    "\n",
    "                dfs(i + 1)\n",
    "\n",
    "                path.pop()\n",
    "        \n",
    "        dfs(0)\n",
    "        return ans\n"
   ]
  },
  {
   "cell_type": "code",
   "execution_count": null,
   "metadata": {},
   "outputs": [],
   "source": [
    "'''回溯过程记录深度'''\n",
    "class solution:\n",
    "    def subsets(self, nums):\n",
    "        n = len(nums)\n",
    "        if not n: return []\n",
    "        ans, path = [], []\n",
    "        \n",
    "        def dfs(start, depth):\n",
    "            if depth == len(path): # 终止条件, 叶子节点长度==深度\n",
    "                ans.append(path[:])\n",
    "                return\n",
    "\n",
    "            for i in range(start, n):\n",
    "                path.append(nums[i])\n",
    "\n",
    "                dfs(i + 1, depth)\n",
    "\n",
    "                path.pop()\n",
    "\n",
    "        for depth in range(n+1):\n",
    "            dfs(0, depth)\n",
    "\n",
    "        return ans"
   ]
  },
  {
   "cell_type": "code",
   "execution_count": null,
   "metadata": {},
   "outputs": [],
   "source": [
    "'''依次考虑选或者不选'''\n",
    "class solution:\n",
    "    def subsets(self, nums):\n",
    "        n = len(nums)\n",
    "        if not n: return []\n",
    "        ans, stack = [], []\n",
    "        \n",
    "        def dfs(index):\n",
    "            if index == n:\n",
    "                ans.append(stack[:])\n",
    "                return\n",
    "            \n",
    "            #不选当前数\n",
    "            dfs(index + 1)\n",
    "\n",
    "            #选择当前数\n",
    "            stack.append(nums[index])\n",
    "            dfs(index + 1)\n",
    "            stack.pop()\n",
    "        \n",
    "        dfs(0)\n",
    "        return ans\n",
    "        "
   ]
  },
  {
   "source": [
    "## 位掩码\n",
    "![](https://raw.githubusercontent.com/supercaizehua/images-for-blog/master/img/20200731110449.png)"
   ],
   "cell_type": "markdown",
   "metadata": {}
  },
  {
   "cell_type": "code",
   "execution_count": 12,
   "metadata": {},
   "outputs": [],
   "source": [
    "class Solution:\n",
    "    def subsets(self, nums):\n",
    "        size = len(nums)\n",
    "        if not size: return []\n",
    "\n",
    "        n = 1 << size\n",
    "        ans = []\n",
    "        for i in range(n):\n",
    "            cur = []\n",
    "            for j in range(size):\n",
    "                if i >> j & 1:\n",
    "                    cur.append(nums[j])\n",
    "                print(cur)\n",
    "            ans.append(cur)\n",
    "        return ans\n"
   ]
  },
  {
   "cell_type": "code",
   "execution_count": 14,
   "metadata": {
    "tags": []
   },
   "outputs": [
    {
     "output_type": "execute_result",
     "data": {
      "text/plain": "'0b100'"
     },
     "metadata": {},
     "execution_count": 14
    }
   ],
   "source": [
    "size = 4\n",
    "bin(size)"
   ]
  },
  {
   "cell_type": "code",
   "execution_count": 16,
   "metadata": {},
   "outputs": [
    {
     "output_type": "execute_result",
     "data": {
      "text/plain": "('0b10000', 16)"
     },
     "metadata": {},
     "execution_count": 16
    }
   ],
   "source": [
    "n == 1 << size\n",
    "bin(n), n"
   ]
  },
  {
   "cell_type": "code",
   "execution_count": 28,
   "metadata": {
    "tags": []
   },
   "outputs": [
    {
     "output_type": "stream",
     "name": "stdout",
     "text": "----------------\n i, j, i>>j\n('0b0', 0, 0)\n('0b0', 1, 0)\n('0b0', 2, 0)\n('0b0', 3, 0)\n----------------\n i, j, i>>j\n('0b1', 0, 1)\n->>>>>>>>>>cur: [1]\n('0b1', 1, 0)\n('0b1', 2, 0)\n('0b1', 3, 0)\n----------------\n i, j, i>>j\n('0b10', 0, 2)\n('0b10', 1, 1)\n->>>>>>>>>>cur: [2]\n('0b10', 2, 0)\n('0b10', 3, 0)\n----------------\n i, j, i>>j\n('0b11', 0, 3)\n->>>>>>>>>>cur: [1]\n('0b11', 1, 1)\n->>>>>>>>>>cur: [1, 2]\n('0b11', 2, 0)\n('0b11', 3, 0)\n----------------\n i, j, i>>j\n('0b100', 0, 4)\n('0b100', 1, 2)\n('0b100', 2, 1)\n->>>>>>>>>>cur: [3]\n('0b100', 3, 0)\n----------------\n i, j, i>>j\n('0b101', 0, 5)\n->>>>>>>>>>cur: [1]\n('0b101', 1, 2)\n('0b101', 2, 1)\n->>>>>>>>>>cur: [1, 3]\n('0b101', 3, 0)\n----------------\n i, j, i>>j\n('0b110', 0, 6)\n('0b110', 1, 3)\n->>>>>>>>>>cur: [2]\n('0b110', 2, 1)\n->>>>>>>>>>cur: [2, 3]\n('0b110', 3, 0)\n----------------\n i, j, i>>j\n('0b111', 0, 7)\n->>>>>>>>>>cur: [1]\n('0b111', 1, 3)\n->>>>>>>>>>cur: [1, 2]\n('0b111', 2, 1)\n->>>>>>>>>>cur: [1, 2, 3]\n('0b111', 3, 0)\n----------------\n i, j, i>>j\n('0b1000', 0, 8)\n('0b1000', 1, 4)\n('0b1000', 2, 2)\n('0b1000', 3, 1)\n->>>>>>>>>>cur: [4]\n----------------\n i, j, i>>j\n('0b1001', 0, 9)\n->>>>>>>>>>cur: [1]\n('0b1001', 1, 4)\n('0b1001', 2, 2)\n('0b1001', 3, 1)\n->>>>>>>>>>cur: [1, 4]\n----------------\n i, j, i>>j\n('0b1010', 0, 10)\n('0b1010', 1, 5)\n->>>>>>>>>>cur: [2]\n('0b1010', 2, 2)\n('0b1010', 3, 1)\n->>>>>>>>>>cur: [2, 4]\n----------------\n i, j, i>>j\n('0b1011', 0, 11)\n->>>>>>>>>>cur: [1]\n('0b1011', 1, 5)\n->>>>>>>>>>cur: [1, 2]\n('0b1011', 2, 2)\n('0b1011', 3, 1)\n->>>>>>>>>>cur: [1, 2, 4]\n----------------\n i, j, i>>j\n('0b1100', 0, 12)\n('0b1100', 1, 6)\n('0b1100', 2, 3)\n->>>>>>>>>>cur: [3]\n('0b1100', 3, 1)\n->>>>>>>>>>cur: [3, 4]\n----------------\n i, j, i>>j\n('0b1101', 0, 13)\n->>>>>>>>>>cur: [1]\n('0b1101', 1, 6)\n('0b1101', 2, 3)\n->>>>>>>>>>cur: [1, 3]\n('0b1101', 3, 1)\n->>>>>>>>>>cur: [1, 3, 4]\n----------------\n i, j, i>>j\n('0b1110', 0, 14)\n('0b1110', 1, 7)\n->>>>>>>>>>cur: [2]\n('0b1110', 2, 3)\n->>>>>>>>>>cur: [2, 3]\n('0b1110', 3, 1)\n->>>>>>>>>>cur: [2, 3, 4]\n----------------\n i, j, i>>j\n('0b1111', 0, 15)\n->>>>>>>>>>cur: [1]\n('0b1111', 1, 7)\n->>>>>>>>>>cur: [1, 2]\n('0b1111', 2, 3)\n->>>>>>>>>>cur: [1, 2, 3]\n('0b1111', 3, 1)\n->>>>>>>>>>cur: [1, 2, 3, 4]\n"
    }
   ],
   "source": [
    "ans = []\n",
    "for i in range(n):\n",
    "    print('----------------')\n",
    "    print(' i, j, i>>j')\n",
    "    cur = []\n",
    "    for j in range(size):\n",
    "        print((bin(i), j, i >> j))\n",
    "        if i>> j &1:\n",
    "            print('->>>>>>>>>>', end='')\n",
    "            cur.append(nums[j])\n",
    "            print('cur:', cur)"
   ]
  },
  {
   "cell_type": "code",
   "execution_count": null,
   "metadata": {},
   "outputs": [],
   "source": []
  }
 ]
}