{
 "metadata": {
  "language_info": {
   "codemirror_mode": {
    "name": "ipython",
    "version": 3
   },
   "file_extension": ".py",
   "mimetype": "text/x-python",
   "name": "python",
   "nbconvert_exporter": "python",
   "pygments_lexer": "ipython3",
   "version": 3
  },
  "orig_nbformat": 2,
  "kernelspec": {
   "name": "python_defaultSpec_1596161542896",
   "display_name": "Python 3.7.7 64-bit (conda)"
  }
 },
 "nbformat": 4,
 "nbformat_minor": 2,
 "cells": [
  {
   "source": [
    "# 50 pow(x, n) @supercaizehua\n",
    "---------------------------------\n",
    "计算x的n次幂函数\n",
    "\n",
    "其它条件:  \n",
    "1. -100.0 < x < 100.0  \n",
    "2. n是32位有符号整数, -2e31, 2e31-1"
   ],
   "cell_type": "markdown",
   "metadata": {}
  },
  {
   "cell_type": "code",
   "execution_count": 1,
   "metadata": {},
   "outputs": [],
   "source": [
    "class Solution:\n",
    "    def myPow(self, x: float, n: int) -> float:\n",
    "        pass"
   ]
  },
  {
   "source": [
    "## 直接暴力循环\n",
    "时间O(n)   会超时    \n",
    "空间O(1)"
   ],
   "cell_type": "markdown",
   "metadata": {}
  },
  {
   "cell_type": "code",
   "execution_count": null,
   "metadata": {},
   "outputs": [],
   "source": [
    "class Solution:\n",
    "    def myPow(self, x: float, n: int) -> float:\n",
    "        if x == 0: return 0 if n else 1  \n",
    "        if n < 0: \n",
    "            x = 1/x\n",
    "            n = -n\n",
    "        ans = 1\n",
    "        while n:\n",
    "            ans *= x\n",
    "            n -= 1\n",
    "        return ans"
   ]
  },
  {
   "source": [
    "## 快速幂(分治)"
   ],
   "cell_type": "markdown",
   "metadata": {}
  },
  {
   "source": [
    "### 递归\n",
    "时间空间 O(logn) 都是递归的层数"
   ],
   "cell_type": "markdown",
   "metadata": {}
  },
  {
   "cell_type": "code",
   "execution_count": null,
   "metadata": {},
   "outputs": [],
   "source": [
    "class Solution:\n",
    "    def myPow(self, x: float, n: int) -> float:\n",
    "        def quickMul(N):\n",
    "            if N == 0: return 1.0\n",
    "            y = quickMul(N//2)\n",
    "            return y * y if N % 2 == 0 else y * y * x\n",
    "        \n",
    "        return quickMul(n) if n>= 0 else 1 / quickMul(-n)"
   ]
  },
  {
   "source": [
    "### 二进制 迭代\n",
    "时间 O(logn)    \n",
    "空间 O(1)"
   ],
   "cell_type": "markdown",
   "metadata": {}
  },
  {
   "cell_type": "code",
   "execution_count": null,
   "metadata": {},
   "outputs": [],
   "source": [
    "class Solution:\n",
    "    def myPow(self, x,n):\n",
    "        if x == 0.0: return 0.0\n",
    "        ans = 1\n",
    "        if n < 0:\n",
    "            x, n = 1/x, -n\n",
    "        while n:\n",
    "            # 按位与&\n",
    "            if n & 1: ans *= x\n",
    "            x *= x\n",
    "            n >>= 1\n",
    "        return ans\n",
    "        \n"
   ]
  },
  {
   "source": [
    "# 延伸 牛顿迭代法\n",
    "求平方根\n",
    "http://www.matrix67.com/blog/archives/361\n",
    "求根号a的近似值, 首先随便猜想一个近似值, 不断令x= x 和 a/x 的平均数, 迭代有限次数之后就相当接近了\n"
   ],
   "cell_type": "markdown",
   "metadata": {}
  },
  {
   "cell_type": "code",
   "execution_count": 1,
   "metadata": {},
   "outputs": [],
   "source": [
    "def sqrt(x):\n",
    "    tempx = float(x)\n",
    "    k = 1.0\n",
    "    k0 = 0.0\n",
    "    while abs(k0 - k) >= 1:\n",
    "        k0,k = k, (k + tempx/k)/2\n",
    "    return int(k)\n"
   ]
  },
  {
   "cell_type": "code",
   "execution_count": 3,
   "metadata": {},
   "outputs": [
    {
     "output_type": "execute_result",
     "data": {
      "text/plain": "2"
     },
     "metadata": {},
     "execution_count": 3
    }
   ],
   "source": [
    "sqrt(8)"
   ]
  },
  {
   "cell_type": "code",
   "execution_count": null,
   "metadata": {},
   "outputs": [],
   "source": []
  }
 ]
}