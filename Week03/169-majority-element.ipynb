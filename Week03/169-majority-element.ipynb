{
 "metadata": {
  "language_info": {
   "codemirror_mode": {
    "name": "ipython",
    "version": 3
   },
   "file_extension": ".py",
   "mimetype": "text/x-python",
   "name": "python",
   "nbconvert_exporter": "python",
   "pygments_lexer": "ipython3",
   "version": 3
  },
  "orig_nbformat": 2,
  "kernelspec": {
   "name": "python_defaultSpec_1596166968163",
   "display_name": "Python 3.7.7 64-bit (conda)"
  }
 },
 "nbformat": 4,
 "nbformat_minor": 2,
 "cells": [
  {
   "source": [
    "# 169 多数元素 @supercaizehua\n",
    "------------------------------\n",
    "输入 nums             \n",
    "输出 多数元素(出现次数大于 [n/2」向下取整)"
   ],
   "cell_type": "markdown",
   "metadata": {}
  },
  {
   "source": [
    "# 哈希表 统计每个元素出现的次数\n",
    "同时维护最大值\n",
    "\n",
    "时间O(n)   \n",
    "空间O(n) "
   ],
   "cell_type": "markdown",
   "metadata": {}
  },
  {
   "cell_type": "code",
   "execution_count": 4,
   "metadata": {},
   "outputs": [],
   "source": [
    "from typing import List\n",
    "class Solution:\n",
    "    def majorityElement(self, nums: List[int]) -> int:\n",
    "        from collections import Counter\n",
    "        count =  Counter(nums)\n",
    "        return max(count.keys(), key = count.get)\n"
   ]
  },
  {
   "cell_type": "code",
   "execution_count": null,
   "metadata": {},
   "outputs": [],
   "source": [
    "class Solution:\n",
    "    def majorityElement(self, nums: List[int]) -> int:\n",
    "        if not nums: return None\n",
    "        dic = {}\n",
    "        max_num = nums[0]\n",
    "        for i in nums:\n",
    "            if i in dic:\n",
    "                dic[i] += 1\n",
    "            else:\n",
    "                dic[i] = 1\n",
    "            if dic[max_num] <= dic[i]:\n",
    "                max_num = i\n",
    "        return max_num"
   ]
  },
  {
   "cell_type": "code",
   "execution_count": 5,
   "metadata": {},
   "outputs": [],
   "source": [
    "class Soluiton:\n",
    "    def majorityElement(self, nums: List[int]) -> int:\n",
    "        dic = {}\n",
    "        for num in nums:\n",
    "            dic[num] = dic.get(num, 0) + 1\n",
    "        for num in nums:\n",
    "            if dic[num] > len(nums) // 2:\n",
    "                return num"
   ]
  },
  {
   "cell_type": "code",
   "execution_count": 6,
   "metadata": {},
   "outputs": [],
   "source": [
    "class Soluiton:\n",
    "    def majorityElement(self, nums: List[int]) -> int:\n",
    "        dic = {}\n",
    "        for num in nums:\n",
    "            if num not in dic: dic[num] = 1\n",
    "            if dic[num] > len(nums) // 2:\n",
    "                return num\n",
    "            else:\n",
    "                dic[num] += 1"
   ]
  },
  {
   "cell_type": "code",
   "execution_count": 7,
   "metadata": {},
   "outputs": [],
   "source": [
    "class Soluiton:\n",
    "    def majorityElement(self, nums: List[int]) -> int:\n",
    "        for i in range(len(nums)):\n",
    "            cnt = 0\n",
    "            for j in range(len(nums)):\n",
    "                if nums[j] == nums[i]:\n",
    "                    cnt += 1\n",
    "            if cnt > len(nums) // 2:\n",
    "                return nums[i]"
   ]
  },
  {
   "source": [
    "## 排序法\n",
    "时间O(nlogn)      \n",
    "空间O(1) 自己编写算法， 如果使用语言自带库函数 O（logn）"
   ],
   "cell_type": "markdown",
   "metadata": {}
  },
  {
   "cell_type": "code",
   "execution_count": 8,
   "metadata": {},
   "outputs": [],
   "source": [
    "class Soluiton:\n",
    "    def majorityElement(self, nums: List[int]) -> int:\n",
    "        nums.sort()\n",
    "        return nums[len(nums)//2]"
   ]
  },
  {
   "source": [
    "## 随机化\n",
    "时间：O（n）  \n",
    "空间：O（1）"
   ],
   "cell_type": "markdown",
   "metadata": {}
  },
  {
   "cell_type": "code",
   "execution_count": null,
   "metadata": {},
   "outputs": [],
   "source": [
    "class Soluiton:\n",
    "    def majorityElement(self, nums: List[int]) -> int:\n",
    "        import random\n",
    "        majority_count = len(nums) // 2\n",
    "        while True:\n",
    "            candidate = random.choice(nums)\n",
    "            sum_ = 0\n",
    "            for elem in nums:\n",
    "                if elem == candidate:\n",
    "                    sum_ += 1\n",
    "                    if sum_ > majority_count:\n",
    "                        return candidate\n"
   ]
  },
  {
   "source": [
    "## 分治\n",
    "如果a是nums的众数， 那么将nums分成两部分之后， a至少是其中一部分的众数。\n",
    "\n",
    "时间 O（nlogn）\n",
    "空间 O（logn） 数组变为长度1之前需要进行O（logn）次递归"
   ],
   "cell_type": "markdown",
   "metadata": {}
  },
  {
   "cell_type": "code",
   "execution_count": null,
   "metadata": {},
   "outputs": [],
   "source": [
    "class Solution:\n",
    "    def majorityElement(self, nums: List[int]) -> int:\n",
    "        lo, hi = 0, len(nums) - 1\n",
    "\n",
    "        def divide_conquer(lo, hi):\n",
    "            if lo == hi:\n",
    "                return nums[lo]\n",
    "\n",
    "            mid = (hi - lo) // 2 + lo\n",
    "            left = divide_conquer(lo, mid)\n",
    "            right = divide_conquer(mid+1, hi)\n",
    "\n",
    "            if left == right: return left\n",
    "\n",
    "            sum_left, sum_right = 0, 0\n",
    "            for i in range(lo, hi+1):\n",
    "                if nums[i] == left:\n",
    "                    sum_left += 1\n",
    "                if nums[i] == right:\n",
    "                    sum_right += 1\n",
    "            # left_count = sum(1 for i in range(lo, hi+1) if nums[i] == left)\n",
    "            # right_count = sum(1 for i in range(lo, hi+1) if nums[i] == right)\n",
    "            return left if sum_left > sum_right else right\n",
    "\n",
    "        return divide_conquer(lo, hi)"
   ]
  },
  {
   "source": [
    "## 投票算法"
   ],
   "cell_type": "markdown",
   "metadata": {}
  },
  {
   "cell_type": "code",
   "execution_count": null,
   "metadata": {},
   "outputs": [],
   "source": [
    "class Solution:\n",
    "    def majorityElement(self, nums: List[int]) -> int:\n",
    "        count = 0\n",
    "        candidate = None\n",
    "\n",
    "        for num in nums:\n",
    "            if count == 0:\n",
    "                candidate = num\n",
    "            count += 1 if num == candidate else -1\n",
    "        return candidate"
   ]
  }
 ]
}