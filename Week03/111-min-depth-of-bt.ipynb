{
 "metadata": {
  "language_info": {
   "codemirror_mode": {
    "name": "ipython",
    "version": 3
   },
   "file_extension": ".py",
   "mimetype": "text/x-python",
   "name": "python",
   "nbconvert_exporter": "python",
   "pygments_lexer": "ipython3",
   "version": 3
  },
  "orig_nbformat": 2
 },
 "nbformat": 4,
 "nbformat_minor": 2,
 "cells": [
  {
   "source": [
    "# 111 二叉树最小深度 @supercaizehua\n",
    "-------------------------------------\n",
    "给定二叉树, 找出最小深度                 \n",
    "最小深度是指:从根节点到最近叶子结点的最对路径上的节点数量           \n",
    "叶子节点:没有子节点的结点              \n",
    "特殊例子:   \n",
    "[3] 深度为1       \n",
    "[3,9] 深度为2"
   ],
   "cell_type": "markdown",
   "metadata": {}
  },
  {
   "cell_type": "code",
   "execution_count": null,
   "metadata": {},
   "outputs": [],
   "source": [
    "class Solution1:\n",
    "    def minDepth(self, root):\n",
    "        if not root: return 0\n",
    "\n",
    "        if None in [root.left, root.right]:\n",
    "            return max(self.minDepth(root.left), self.minDepth(root.right)) + 1\n",
    "        else:\n",
    "            return min(self.minDepth(root.left), self.minDepth(root.right)) + 1"
   ]
  },
  {
   "cell_type": "code",
   "execution_count": null,
   "metadata": {},
   "outputs": [],
   "source": [
    "class Solution1_1:\n",
    "    def minDepth(self, root):\n",
    "        if not root: return 0\n",
    "        ans, stack = float('inf'), [(root, 1)]\n",
    "        while stack:\n",
    "            node, level = stack.pop()\n",
    "            if node:\n",
    "                stack.append((node.right, level + 1))\n",
    "                stack.append((node.left, level + 1))\n",
    "                if not node.left and not node.right:#node is leaf\n",
    "                    ans = min(ans, level)\n",
    "        return ans\n"
   ]
  },
  {
   "cell_type": "code",
   "execution_count": null,
   "metadata": {},
   "outputs": [],
   "source": [
    "class Solution2:\n",
    "    def minDepth(self, root):\n",
    "        if not root: return 0\n",
    "        from collections import deque\n",
    "        queue = deque([(root, 1)])\n",
    "        while queue:\n",
    "            node, level = queue.popleft()\n",
    "            if node:\n",
    "                queue.append((node.left, level + 1))\n",
    "                queue.append((node.right, level + 1))\n",
    "                if not node.left and not node.right:\n",
    "                    return level"
   ]
  }
 ]
}