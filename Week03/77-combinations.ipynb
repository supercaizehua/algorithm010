{
 "metadata": {
  "language_info": {
   "codemirror_mode": {
    "name": "ipython",
    "version": 3
   },
   "file_extension": ".py",
   "mimetype": "text/x-python",
   "name": "python",
   "nbconvert_exporter": "python",
   "pygments_lexer": "ipython3",
   "version": 3
  },
  "orig_nbformat": 2,
  "kernelspec": {
   "name": "python_defaultSpec_1595918504992",
   "display_name": "Python 3.7.7 64-bit (conda)"
  }
 },
 "nbformat": 4,
 "nbformat_minor": 2,
 "cells": [
  {
   "source": [
    "# 77 组合 @supercaizehua\n",
    "---------------------------\n",
    "输入 n k\n",
    "输出 1-n 所有的k个数的组合"
   ],
   "cell_type": "markdown",
   "metadata": {}
  },
  {
   "source": [
    "## 回溯法\n",
    "https://leetcode-cn.com/problems/combinations/solution/zu-he-by-leetcode/\n",
    "https://leetcode-cn.com/problems/combinations/solution/hui-su-suan-fa-jian-zhi-python-dai-ma-java-dai-ma-/\n"
   ],
   "cell_type": "markdown",
   "metadata": {}
  },
  {
   "cell_type": "code",
   "execution_count": null,
   "metadata": {},
   "outputs": [],
   "source": [
    "class solution1:\n",
    "    def combine(self, n, k):\n",
    "        if n <= 0 or k <= 0 or k > n: return []\n",
    "\n",
    "        ans = []\n",
    "        self.dfs(1, k, n, [], ans)\n",
    "        return ans\n",
    "\n",
    "    def dfs(self, start, k, n, ans_, ans):\n",
    "        if len(ans_) == k:\n",
    "            ans.append(ans_[:])\n",
    "            return \n",
    "        \n",
    "        for i in range(start, n+1):\n",
    "            ans_.append(i)\n",
    "            self.dfs(i + 1, k, n, ans_, ans)\n",
    "            #状态重置\n",
    "            ans_.pop()"
   ]
  },
  {
   "cell_type": "code",
   "execution_count": 1,
   "metadata": {},
   "outputs": [],
   "source": [
    "'''\n",
    "剪枝优化\n",
    "https://leetcode-cn.com/problems/combinations/solution/hui-su-suan-fa-jian-zhi-python-dai-ma-java-dai-ma-/\n",
    "'''\n",
    "class solution1_2:\n",
    "    def combine(self, n, k):\n",
    "        if n <= 0 or k <= 0 or k > n: return []\n",
    "\n",
    "        ans = []\n",
    "        self.dfs(1, k, n, [], ans)\n",
    "        return ans\n",
    "\n",
    "    def dfs(self, start, k, n, ans_, ans):\n",
    "        if len(ans_) == k:\n",
    "            ans.append(ans_[:])\n",
    "            return \n",
    "        \n",
    "        for i in range(start, n - (k-len(ans_)) + 2):\n",
    "            ans_.append(i)\n",
    "            self.dfs(i + 1, k, n, ans_, ans)\n",
    "            #状态重置\n",
    "            ans_.pop()"
   ]
  },
  {
   "source": [
    "## S2: 字典序(二进制排序)组合\n",
    "以字典序的顺序获得全部组合  \n",
    "![](https://raw.githubusercontent.com/supercaizehua/images-for-blog/master/img/20200728145537.png)"
   ],
   "cell_type": "markdown",
   "metadata": {}
  },
  {
   "source": [
    "1. 将nums初始化为1-k的整数序列, n+1 作为末尾元素, 起哨兵作用  \n",
    "2. 指针指向开头\n",
    "3. 当j < k时:  \n",
    "    - 将除哨兵之外的所有元素添加到ans中\n",
    "    - 找到第一个满足 num[j] + 1 != nums[j+1]的元素, 将其加1 nums[j] += 1 以转到下一个组合"
   ],
   "cell_type": "markdown",
   "metadata": {}
  },
  {
   "source": [
    "https://leetcode.com/problems/combinations/discuss/26989/Simple-Python-Iterative-Solution\n",
    "https://leetcode.com/problems/combinations/discuss/538179/How-itertools.combinations-works"
   ],
   "cell_type": "markdown",
   "metadata": {}
  },
  {
   "source": [
    "class Solution2:\n",
    "    def combine(self, n: int, k: int) -> List[List[int]]:\n",
    "        # init first combination\n",
    "        nums = list(range(1, k + 1)) + [n + 1]\n",
    "        \n",
    "        output, j = [], 0\n",
    "        while j < k:\n",
    "            # add current combination\n",
    "            output.append(nums[:k])\n",
    "            # increase first nums[j] by one\n",
    "            # if nums[j] + 1 != nums[j + 1]\n",
    "            j = 0\n",
    "            while j < k and nums[j + 1] == nums[j] + 1:\n",
    "                nums[j] = j + 1\n",
    "                j += 1\n",
    "            nums[j] += 1\n",
    "            \n",
    "        return output\n",
    "\n",
    "\n"
   ],
   "cell_type": "code",
   "metadata": {},
   "execution_count": null,
   "outputs": []
  },
  {
   "source": [
    "## S3 python 库"
   ],
   "cell_type": "markdown",
   "metadata": {}
  },
  {
   "cell_type": "code",
   "execution_count": null,
   "metadata": {},
   "outputs": [],
   "source": [
    "class solution3:\n",
    "    def combine(self, n, k):\n",
    "        import itertools\n",
    "        return list(itertools.combinations(range(1, n+1), k))"
   ]
  }
 ]
}