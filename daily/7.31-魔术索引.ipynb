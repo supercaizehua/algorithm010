{
 "metadata": {
  "language_info": {
   "codemirror_mode": {
    "name": "ipython",
    "version": 3
   },
   "file_extension": ".py",
   "mimetype": "text/x-python",
   "name": "python",
   "nbconvert_exporter": "python",
   "pygments_lexer": "ipython3",
   "version": 3
  },
  "orig_nbformat": 2,
  "kernelspec": {
   "name": "python_defaultSpec_1596188727064",
   "display_name": "Python 3.7.7 64-bit (conda)"
  }
 },
 "nbformat": 4,
 "nbformat_minor": 2,
 "cells": [
  {
   "source": [
    "# 魔术索引 @supercaizehua\n",
    "https://leetcode-cn.com/problems/magic-index-lcci/\n",
    "-----------------------------\n",
    "题意：\n",
    "\n",
    "输入 nums   \n",
    "输出 魔术索引， 如果不存在 返回-1， 如果存在多个 返回最小的     \n",
    "\n",
    "什么是魔术索引： nums[index] = index\n",
    "\n",
    "其它条件：           \n",
    "数组有序       \n",
    "nums长度在 1-1000000 之间    \n",
    "数组中可能包含重复元素\n",
    "\n"
   ],
   "cell_type": "markdown",
   "metadata": {}
  },
  {
   "source": [
    "## 暴力遍历一次\n",
    "时间O(n)     \n",
    "空间O(1)\n"
   ],
   "cell_type": "markdown",
   "metadata": {}
  },
  {
   "cell_type": "code",
   "execution_count": 2,
   "metadata": {},
   "outputs": [],
   "source": [
    "from typing import List"
   ]
  },
  {
   "cell_type": "code",
   "execution_count": 3,
   "metadata": {},
   "outputs": [],
   "source": [
    "class Solution:\n",
    "    def findMagicIndex(self, nums: List[int]) -> int:\n",
    "        for i in range(len(nums)):\n",
    "            if nums[i] == i: return i\n",
    "        return -1"
   ]
  },
  {
   "source": [
    "## 暴力法的优化\n",
    "根据题目, 数组是有序的, 可以猜想要么是升序, 要么是降序, 可以分别写两套代码进行实验.     \n",
    "假如nums[0] = 100, 所以可以直接从100开始找"
   ],
   "cell_type": "markdown",
   "metadata": {}
  },
  {
   "cell_type": "code",
   "execution_count": null,
   "metadata": {},
   "outputs": [],
   "source": [
    "class Solution:\n",
    "    def findMagicIndex(self, nums: List[int]) -> int:\n",
    "        for i in range(len(nums)):\n",
    "            if i == nums[i]: return i\n",
    "            if nums[i] > i+1:\n",
    "                i = nums[i] - 1\n",
    "        return -1\n"
   ]
  },
  {
   "source": [
    "## 分治\n",
    "1.将数组分成2份, 查找各自的魔术索引           \n",
    "2.继续二分"
   ],
   "cell_type": "markdown",
   "metadata": {}
  },
  {
   "cell_type": "code",
   "execution_count": null,
   "metadata": {},
   "outputs": [],
   "source": [
    "class Solution:\n",
    "    def findMagicIndex(self, nums: List[int]) -> int:\n",
    "        def divide_conquer(lo, hi):\n",
    "            if lo > hi: return -1\n",
    "\n",
    "            mid = lo + (hi - lo) // 2\n",
    "            ans = divide_conquer(lo, mid-1)\n",
    "            if ans != -1:\n",
    "                return ans\n",
    "            elif nums[mid] == mid:\n",
    "                return mid\n",
    "            else:\n",
    "                return divide_conquer(mid + 1, hi)\n",
    "\n",
    "        lo, hi = 0, len(nums)-1\n",
    "        return divide_conquer(lo, hi)"
   ]
  }
 ]
}