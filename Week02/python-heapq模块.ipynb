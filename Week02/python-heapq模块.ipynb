{
 "metadata": {
  "language_info": {
   "codemirror_mode": {
    "name": "ipython",
    "version": 3
   },
   "file_extension": ".py",
   "mimetype": "text/x-python",
   "name": "python",
   "nbconvert_exporter": "python",
   "pygments_lexer": "ipython3",
   "version": 3
  },
  "orig_nbformat": 2,
  "kernelspec": {
   "name": "python_defaultSpec_1595559500561",
   "display_name": "Python 3.7.7 64-bit (conda)"
  }
 },
 "nbformat": 4,
 "nbformat_minor": 2,
 "cells": [
  {
   "source": [
    "# python heapq模块"
   ],
   "cell_type": "markdown",
   "metadata": {}
  },
  {
   "source": [
    "heapq 是 python 内置的模块, 是一种优先队列, 可以实现 堆.    \n",
    "使用的时候要先导入"
   ],
   "cell_type": "markdown",
   "metadata": {}
  },
  {
   "cell_type": "code",
   "execution_count": 1,
   "metadata": {},
   "outputs": [],
   "source": [
    "import heapq\n",
    "import random"
   ]
  },
  {
   "cell_type": "code",
   "execution_count": 2,
   "metadata": {},
   "outputs": [
    {
     "output_type": "execute_result",
     "data": {
      "text/plain": "[8, 25, 13, 52, 11, 9, 79, 44, 69, 0, 13, 63, 86, 99, 74, 15, 13, 27, 47, 67]"
     },
     "metadata": {},
     "execution_count": 2
    }
   ],
   "source": [
    "data = [random.randint(0, 100) for i in range(20)]\n",
    "data"
   ]
  },
  {
   "source": [
    "heapq有6个函数    "
   ],
   "cell_type": "markdown",
   "metadata": {}
  },
  {
   "cell_type": "code",
   "execution_count": 3,
   "metadata": {},
   "outputs": [
    {
     "output_type": "execute_result",
     "data": {
      "text/plain": "[0, 8, 9, 13, 11, 13, 74, 15, 27, 25, 13, 63, 86, 99, 79, 52, 44, 69, 47, 67]"
     },
     "metadata": {},
     "execution_count": 3
    }
   ],
   "source": [
    "heap = []\n",
    "'''heapq.heappush(heap, x)将x压入堆中, 该函数不能直接用于普通列表, 只能用于堆函数创建的列表'''\n",
    "for i in data:\n",
    "    heapq.heappush(heap, i)\n",
    "heap"
   ]
  },
  {
   "cell_type": "code",
   "execution_count": 4,
   "metadata": {},
   "outputs": [
    {
     "output_type": "execute_result",
     "data": {
      "text/plain": "list"
     },
     "metadata": {},
     "execution_count": 4
    }
   ],
   "source": [
    "type(heap)"
   ]
  },
  {
   "cell_type": "code",
   "execution_count": 5,
   "metadata": {},
   "outputs": [
    {
     "output_type": "execute_result",
     "data": {
      "text/plain": "0"
     },
     "metadata": {},
     "execution_count": 5
    }
   ],
   "source": [
    "'''\n",
    "heapq.heappop(heap) 弹出堆顶元素, 由于python中heapq是最小堆, 所以弹出的是最小的元素\n",
    "'''\n",
    "heapq.heappop(heap)"
   ]
  },
  {
   "cell_type": "code",
   "execution_count": 6,
   "metadata": {},
   "outputs": [
    {
     "output_type": "execute_result",
     "data": {
      "text/plain": "[0, 8, 9, 13, 11, 13, 74, 15, 27, 25, 13, 63, 86, 99, 79, 52, 44, 69, 47, 67]"
     },
     "metadata": {},
     "execution_count": 6
    }
   ],
   "source": [
    "'''\n",
    "heapq.heapify(list)列表转堆\n",
    "'''\n",
    "heapq.heapify(data)\n",
    "data"
   ]
  },
  {
   "cell_type": "code",
   "execution_count": 7,
   "metadata": {},
   "outputs": [
    {
     "output_type": "execute_result",
     "data": {
      "text/plain": "list"
     },
     "metadata": {},
     "execution_count": 7
    }
   ],
   "source": [
    "type(data)"
   ]
  },
  {
   "cell_type": "code",
   "execution_count": 8,
   "metadata": {},
   "outputs": [
    {
     "output_type": "execute_result",
     "data": {
      "text/plain": "[8, 11, 9, 13, 13, 13, 74, 15, 27, 25, 33, 63, 86, 99, 79, 52, 44, 69, 47, 67]"
     },
     "metadata": {},
     "execution_count": 8
    }
   ],
   "source": [
    "'''\n",
    "heapq.heapreplace(heap, x)\n",
    "弹出堆顶元素的同时, 压入x\n",
    "'''\n",
    "heapq.heapreplace(data, 33)\n",
    "data"
   ]
  },
  {
   "cell_type": "code",
   "execution_count": 9,
   "metadata": {},
   "outputs": [
    {
     "output_type": "execute_result",
     "data": {
      "text/plain": "[99, 86, 79]"
     },
     "metadata": {},
     "execution_count": 9
    }
   ],
   "source": [
    "'''\n",
    "返回n个最大/最小元素\n",
    "'''\n",
    "heapq.nlargest(3, data)"
   ]
  },
  {
   "cell_type": "code",
   "execution_count": 10,
   "metadata": {},
   "outputs": [
    {
     "output_type": "execute_result",
     "data": {
      "text/plain": "[8, 9, 11]"
     },
     "metadata": {},
     "execution_count": 10
    }
   ],
   "source": [
    "heapq.nsmallest(3, heap)"
   ]
  },
  {
   "cell_type": "code",
   "execution_count": 11,
   "metadata": {},
   "outputs": [],
   "source": [
    "q = []\n",
    "heapq.heapify(q)"
   ]
  },
  {
   "cell_type": "code",
   "execution_count": 12,
   "metadata": {},
   "outputs": [
    {
     "output_type": "error",
     "ename": "IndexError",
     "evalue": "index out of range",
     "traceback": [
      "\u001b[1;31m---------------------------------------------------------------------------\u001b[0m",
      "\u001b[1;31mIndexError\u001b[0m                                Traceback (most recent call last)",
      "\u001b[1;32m<ipython-input-12-c83bc0dfe838>\u001b[0m in \u001b[0;36m<module>\u001b[1;34m\u001b[0m\n\u001b[1;32m----> 1\u001b[1;33m \u001b[0mheapq\u001b[0m\u001b[1;33m.\u001b[0m\u001b[0mheappop\u001b[0m\u001b[1;33m(\u001b[0m\u001b[0mq\u001b[0m\u001b[1;33m)\u001b[0m\u001b[1;33m\u001b[0m\u001b[1;33m\u001b[0m\u001b[0m\n\u001b[0m",
      "\u001b[1;31mIndexError\u001b[0m: index out of range"
     ]
    }
   ],
   "source": [
    "heapq.heap"
   ]
  },
  {
   "cell_type": "code",
   "execution_count": null,
   "metadata": {},
   "outputs": [],
   "source": []
  }
 ]
}