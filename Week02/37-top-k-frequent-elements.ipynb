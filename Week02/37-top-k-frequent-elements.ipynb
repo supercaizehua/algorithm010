{
 "metadata": {
  "language_info": {
   "codemirror_mode": {
    "name": "ipython",
    "version": 3
   },
   "file_extension": ".py",
   "mimetype": "text/x-python",
   "name": "python",
   "nbconvert_exporter": "python",
   "pygments_lexer": "ipython3",
   "version": 3
  },
  "orig_nbformat": 2,
  "kernelspec": {
   "name": "python_defaultSpec_1595557565403",
   "display_name": "Python 3.7.7 64-bit (conda)"
  }
 },
 "nbformat": 4,
 "nbformat_minor": 2,
 "cells": [
  {
   "source": [
    "author: @supercaizehua\n",
    "- - -\n",
    "# leetcode-347-top-k-frequent-elements\n",
    "## 题意\n",
    "输入 非空 整数数组      \n",
    "输出 出现频率前k高的元素的列表\n",
    "     \n",
    "其它条件     \n",
    "- 给定的k总是合理的,  1 ≤ k ≤ 数组中不相同的元素的个数\n",
    "- 时间必须优于O(nlogn)\n",
    "- 返回的元素列表顺序任意, 元素集合唯一即可"
   ],
   "cell_type": "markdown",
   "metadata": {}
  },
  {
   "source": [
    "## solution 0 直接排序\n",
    "时间O(nlogn)"
   ],
   "cell_type": "markdown",
   "metadata": {}
  },
  {
   "cell_type": "code",
   "execution_count": null,
   "metadata": {},
   "outputs": [],
   "source": [
    "\n",
    "'''\n",
    "直接排序\n",
    "时间O(nlogn)\n",
    "'''\n",
    "class Solution0:\n",
    "    def topKFrequent(self, nums, k):\n",
    "        from collections import Counter\n",
    "        count = Counter(nums)\n",
    "        return [i[0] for i in count.most_common(k)]"
   ]
  },
  {
   "source": [
    "## solution 1 heap\n",
    "k = 1 时, hash表维护出现频率,返回最高    \n",
    "k>1 需要根据出现频率快速获取元素的数据结构, 即优先队列                \n",
    "1. 构建hashmap k-v:元素-频率                \n",
    "2. 构建堆, 堆排序            \n"
   ],
   "cell_type": "markdown",
   "metadata": {}
  },
  {
   "cell_type": "code",
   "execution_count": null,
   "metadata": {},
   "outputs": [],
   "source": [
    "class Solution1:\n",
    "    def topKFrequent(self, nums, k):\n",
    "        from collections import Counter\n",
    "        import heapq\n",
    "        count = Counter(nums)\n",
    "        return heapq.nlargest(k, count.keys(), key= count.get)\n",
    "        "
   ]
  },
  {
   "cell_type": "code",
   "execution_count": null,
   "metadata": {},
   "outputs": [],
   "source": [
    "'''\n",
    "手动维护大小为k的堆, 小根堆\n",
    "时间O(nlogk)\n",
    "'''\n",
    "class Solution1_2:\n",
    "    def topKFrequent(self, nums, k):\n",
    "        from collections import Counter\n",
    "        import heapq\n",
    "        count = Counter(nums)\n",
    "        heap = []\n",
    "        for key, value in count.items():\n",
    "            if len(heap) == k:\n",
    "                if heap[0][0] < value:\n",
    "                    heapq.heapreplace(heap, (value, key))\n",
    "            else:\n",
    "                    heapq.heappush(heap, (value, key))\n",
    "        return [i[1] for i in heap]"
   ]
  },
  {
   "cell_type": "code",
   "execution_count": null,
   "metadata": {},
   "outputs": [],
   "source": [
    "'''\n",
    "手动维护大小为n-k的堆 大根堆\n",
    "时间O(nlog(n-k))\n",
    "\n",
    "从m个元素中, 通过堆选出最大的k个数\n",
    "堆满后, 若新加的数小于堆顶, 堆顶加入结果, 否则新加的数加入结果\n",
    "'''\n",
    "class Solution1_3:\n",
    "    def topKFrequent(self, nums, k):\n",
    "        from collections import Counter\n",
    "        import heapq\n",
    "        count = Counter(nums)\n",
    "        heap = []\n",
    "        ans = []\n",
    "        n = len(count)\n",
    "        for num, freq in count.items():\n",
    "            if len(heap) == n-k:\n",
    "                if heap and freq < -heap[0][0]: #新加元素的freq 和堆顶元素比较\n",
    "                    ans.append(heapq.heapreplace(heap, (-freq, num))[1])\n",
    "                else:\n",
    "                    ans.append(num)\n",
    "            else:\n",
    "                heapq.heappush(heap, (-freq, num))\n",
    "        return ans"
   ]
  },
  {
   "cell_type": "code",
   "execution_count": null,
   "metadata": {},
   "outputs": [],
   "source": [
    "class Solution1_4:\n",
    "    def topKFrequent(self, nums, k):\n",
    "        from collections import Counter\n",
    "        import heapq\n",
    "        count = Counter(nums)\n",
    "        heap, ans = [],[]\n",
    "        n = len(count)\n",
    "        return self.bigheap(count, heap, ans, n, k) if k > n/2 else self.smallheap(count, heap, k)\n",
    "    \n",
    "    def bigheap(self, count, heap, ans, n, k):\n",
    "        for num, freq in count.items():\n",
    "            if len(heap) == n - k:\n",
    "                if heap and freq < -heap[0][0]:\n",
    "                    ans.append(heapq.heapreplace(heap, (-freq, num))[1])\n",
    "                else:\n",
    "                    ans.append(num)\n",
    "            else:\n",
    "                heapq.heappush(heap, (-freq, num))\n",
    "        return ans\n",
    "\n",
    "    def smallheap(self, count, heap, k):\n",
    "        for num, freq in count.items():\n",
    "            if len(heap) == k:\n",
    "                if heap[0][0] < freq:\n",
    "                    heapq.heapreplace(heap, (freq, num))\n",
    "            else:\n",
    "                    heapq.heappush(heap, (freq, num))\n",
    "        return [i[1] for i in heap]"
   ]
  },
  {
   "source": [
    "## S2: 快排思想, 快速选择\n",
    "1. 获取 hashmap\n",
    "2. 快速选择\n",
    "\n",
    "时间O(n)\n"
   ],
   "cell_type": "markdown",
   "metadata": {}
  },
  {
   "cell_type": "code",
   "execution_count": null,
   "metadata": {},
   "outputs": [],
   "source": [
    "class Solution2:\n",
    "    def topKFrequent(self, nums, k):\n",
    "        from collections import Counter\n",
    "        count = Counter(nums)\n",
    "        nums = [(freq, num) for num, freq in count.items()]\n",
    "\n",
    "        kths = self.findKth(nums, k, 0, len(nums) - 1)\n",
    "        return [i[1] for i in kths]\n",
    "\n",
    "    def findKth(self, nums, k, low, high):\n",
    "        if low >= high: return nums[:low+1]\n",
    "        pivot = nums[low]\n",
    "        i = low\n",
    "        for j in range(low+1, high+1):\n",
    "            if nums[j][0] > pivot[0]:\n",
    "                nums[j], nums[i+1]  = nums[i+1], nums[j]\n",
    "                i += 1\n",
    "        nums[low], nums[i] = nums[i], nums[low]\n",
    "        if i == k-1:\n",
    "            return nums[:i+1]\n",
    "        elif i > k-1:\n",
    "            return self.findKth(nums, k, low, i-1)\n",
    "        else:\n",
    "            return self.findKth(nums, k, i+1, high)"
   ]
  },
  {
   "cell_type": "code",
   "execution_count": null,
   "metadata": {},
   "outputs": [],
   "source": [
    "class Solution2_2:\n",
    "    def topKFrequent(self, nums, k):\n",
    "        from collections import Counter\n",
    "        count = Counter(nums)\n",
    "        nums = [(freq, num) for num, freq in count.items()]\n",
    "\n",
    "        ans = self.quickselect(nums, k, 0, len(nums) - 1)\n",
    "        return [i[1] for i in ans]\n",
    "\n",
    "    def quickselect(self, nums, k, low, high):\n",
    "        if k>= len(nums): return nums\n",
    "        pivot_index = self.partition(nums, low, high)\n",
    "        if pivot_index == k:\n",
    "            return nums[:k]\n",
    "        elif pivot_index > k:\n",
    "            return self.quickselect(nums, k, low, pivot_index - 1)\n",
    "        else:\n",
    "            return self.quickselect(nums, k, pivot_index + 1, high)\n",
    "\n",
    "    def partition(self, nums, low, high):\n",
    "        pivot = nums[low]\n",
    "        while low < high:\n",
    "            while low < high and nums[high][0] <= pivot[0]:\n",
    "                high -= 1\n",
    "            nums[low] = nums[high]\n",
    "            while low < high and nums[low][0] >= pivot[0]:\n",
    "                low += 1\n",
    "            nums[high] = nums[low]\n",
    "        nums[high] = pivot\n",
    "        return high\n"
   ]
  }
 ]
}