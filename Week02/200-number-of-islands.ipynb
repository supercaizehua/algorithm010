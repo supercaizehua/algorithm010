{
 "metadata": {
  "language_info": {
   "codemirror_mode": {
    "name": "ipython",
    "version": 3
   },
   "file_extension": ".py",
   "mimetype": "text/x-python",
   "name": "python",
   "nbconvert_exporter": "python",
   "pygments_lexer": "ipython3",
   "version": 3
  },
  "orig_nbformat": 2,
  "kernelspec": {
   "name": "python_defaultSpec_1595653818401",
   "display_name": "Python 3.7.7 64-bit (conda)"
  }
 },
 "nbformat": 4,
 "nbformat_minor": 2,
 "cells": [
  {
   "source": [
    "## author:@supercaizehua\n",
    "----------------------\n",
    "# 200 岛屿数量\n",
    "输入二维列表, 1表示陆地, 0表示水, 输出岛屿数量"
   ],
   "cell_type": "markdown",
   "metadata": {}
  },
  {
   "source": [
    "## 解法1 DFS\n",
    "扫描整个网络, 如果为1,则从该节点开始DFS, 每个搜索到的1都会标记为0    \n",
    "dfs的次数就是输出的结果\n",
    "\n",
    "时间 O(MN) M行数 N列数    \n",
    "空间 O(MN) 最坏情况整个网络为陆地, dfs深度MN"
   ],
   "cell_type": "markdown",
   "metadata": {}
  },
  {
   "cell_type": "code",
   "execution_count": 1,
   "metadata": {},
   "outputs": [],
   "source": [
    "class Solution1:\n",
    "    def dfs(self, grid, r, c):\n",
    "        grid[r][c] = 0\n",
    "        nr, nc = len(grid), len(grid[0])\n",
    "        directions = [(-1, 0), (1, 0), (0, -1), (0, 1)]\n",
    "        for direction in directions:\n",
    "            x, y = r + direction[0], c + direction[1]\n",
    "            if 0 <= x < nr and 0 <= y < nc and grid[x][y] == '1':\n",
    "                self.dfs(grid, x, y)\n",
    "    \n",
    "    def numIslands(self, grid):\n",
    "        nr = len(grid)\n",
    "        if nr == 0: return 0\n",
    "        nc = len(grid[0])\n",
    "        \n",
    "        ans = 0\n",
    "        for r in range(nr):\n",
    "            for c in range(nc):\n",
    "                if grid[r][c] == '1':\n",
    "                    ans += 1\n",
    "                    self.dfs(grid, r, c)\n",
    "        \n",
    "        return ans"
   ]
  },
  {
   "source": [
    "## s2 BFS\n",
    "扫描网络, 如果为1, 加入队列, 开始bfs, 搜索到的标记为0, 直到队列为空\n",
    "\n",
    "时间 O(MN)   \n",
    "空间 O(min(M,N)) 最坏情况队列大小为min(M,N)"
   ],
   "cell_type": "markdown",
   "metadata": {}
  },
  {
   "cell_type": "code",
   "execution_count": null,
   "metadata": {},
   "outputs": [],
   "source": [
    "class Solution2:\n",
    "    def bfs(self, grid, r, c):\n",
    "        grid[r][c] = '0'\n",
    "        nr, nc = len(grid), len(grid[0])\n",
    "        unseen = deque([(r, c)])\n",
    "        directions = [(-1, 0), (1, 0), (0, -1), (0, 1)]\n",
    "        \n",
    "        while unseen:\n",
    "            curr_r, curr_c = unseen.popleft()\n",
    "            for direction in directions:\n",
    "                x, y = curr_r + direction[0], curr_c + direction[1]\n",
    "                if 0 <= x < nr and 0 <= y < nc and grid[x][y] == '1':\n",
    "                    self.bfs(grid, x, y)\n",
    "    \n",
    "\n",
    "\n",
    "    def numIslands(self, grid):\n",
    "        nr = len(grid)\n",
    "        if nr == 0: return 0\n",
    "        nc = len(grid[0])\n",
    "        \n",
    "        from collections import deque\n",
    "        ans = 0\n",
    "        for r in range(nr):\n",
    "            for c in range(nc):\n",
    "                if grid[r][c] == '1':\n",
    "                    ans += 1\n",
    "                    self.bfs(grid, r, c)\n",
    "        \n",
    "        return ans"
   ]
  },
  {
   "source": [
    "## s3 并查集\n",
    "扫描网络    \n",
    "如果为1, 将其与4个相邻方向上的1在并查集中合并    \n",
    "最终的数量就是并查集中连通分量的数目    "
   ],
   "cell_type": "markdown",
   "metadata": {}
  },
  {
   "source": [
    "class UnionFind:\n",
    "    def __init__(self, gird):\n",
    "        nr, nc = len(gird), len(gird[0])\n",
    "        self.count = 0\n",
    "        self.parent = [-1] * (nr * nc)\n",
    "        self.rank = [0] * (nr * nc)\n",
    "        for r in range(nr):\n",
    "            for c in range(nc):\n",
    "                if gird[r][c] == '1':\n",
    "                    self.parent[r * nc + c] = r * nc + c\n",
    "                    self.count += 1\n",
    "    \n",
    "    def find(self, i):\n",
    "        if self.parent[i] != i:\n",
    "            self.parent[i] = self.find(self.parent[i])\n",
    "        return self.parent[i]\n",
    "\n",
    "    def union(self, x, y):\n",
    "        x_root = self.find(x)\n",
    "        y_root = self.find(y)\n",
    "        if x_root != y_root:\n",
    "            if self.rank[x_root] < self.rank[y_root]:\n",
    "                x_root, y_root = y_root, x_root\n",
    "            self.parent[y_root] = x_root\n",
    "            if self.rank[x_root] == self.rank[y_root]:\n",
    "                self.rank[x_root] += 1\n",
    "            self.count -= 1\n",
    "\n",
    "    def getcount(self):\n",
    "        return self.count"
   ],
   "cell_type": "code",
   "metadata": {},
   "execution_count": null,
   "outputs": []
  },
  {
   "cell_type": "code",
   "execution_count": null,
   "metadata": {},
   "outputs": [],
   "source": [
    "class Solution3:\n",
    "    def numIslands(self, grid):\n",
    "        nr = len(grid)        \n",
    "        if nr == 0: return 0\n",
    "        nc = len(grid[0])\n",
    "\n",
    "        unionfind = UnionFind(grid)\n",
    "        ans = 0\n",
    "        directions = [(1,0), (0, 1)]\n",
    "        for r in range(nr):\n",
    "            for c in range(nc):\n",
    "                if grid[r][c] == '1':\n",
    "                    grid[r][c] = '0'\n",
    "                    for direction in directions:\n",
    "                        x, y = r + direction[0], c+ direction[1]\n",
    "                        if 0 <= x < nr and 0 <= y < nc and grid[x][y] == '1':\n",
    "                            unionfind.union(r * nc + c, x*nc + y)\n",
    "\n",
    "        return unionfind.getcount()\n",
    "\n",
    "\n"
   ]
  }
 ]
}