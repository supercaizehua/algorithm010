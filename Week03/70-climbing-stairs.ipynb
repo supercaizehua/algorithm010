{
 "metadata": {
  "language_info": {
   "codemirror_mode": {
    "name": "ipython",
    "version": 3
   },
   "file_extension": ".py",
   "mimetype": "text/x-python",
   "name": "python",
   "nbconvert_exporter": "python",
   "pygments_lexer": "ipython3",
   "version": 3
  },
  "orig_nbformat": 2,
  "kernelspec": {
   "name": "python_defaultSpec_1595662709868",
   "display_name": "Python 3.7.7 64-bit (conda)"
  }
 },
 "nbformat": 4,
 "nbformat_minor": 2,
 "cells": [
  {
   "source": [
    "## author:@supercaizehua\n",
    "------------------------\n",
    "# 22 括号生成\n",
    "输入n, 代表生成的括号对数        \n",
    "输出所有有效组合"
   ],
   "cell_type": "markdown",
   "metadata": {}
  },
  {
   "source": [
    "## S0 暴力生成\n",
    "生成所有可能的情况, 然后依次判断是否有效     \n",
    "时间 O(2^(2n) * n))     \n",
    "空间 O(n)"
   ],
   "cell_type": "markdown",
   "metadata": {}
  },
  {
   "cell_type": "code",
   "execution_count": 23,
   "metadata": {},
   "outputs": [],
   "source": [
    "class Solution0:\n",
    "    def generateParenthesis(self, n):\n",
    "        if n == 0: return []\n",
    "\n",
    "        def generateall(n):  #时间O(2^2n) 空间O(2n)\n",
    "            from collections import deque\n",
    "            ans = deque(['('])\n",
    "            while len(ans[0]) < n*2:\n",
    "                i = ans.popleft()\n",
    "                for j in ['(', ')']:\n",
    "                    ans.append(i+j)\n",
    "            return list(ans)\n",
    "\n",
    "        def isValid(s):\n",
    "            '''此处代码可以优化一下 时间O(n) 空间O(n)'''\n",
    "            stack = [0]\n",
    "            for i in s:\n",
    "                if i == ')':\n",
    "                    try:\n",
    "                        stack.pop()\n",
    "                    except:\n",
    "                        return False\n",
    "                else:\n",
    "                    stack.append(i)\n",
    "            return stack[-1] == 0\n",
    "\n",
    "        all_possible = generateall(n)\n",
    "        ans = []\n",
    "        for i in all_possible:\n",
    "            if isValid(i):\n",
    "                ans.append(i)\n",
    "        return ans\n"
   ]
  },
  {
   "source": [
    "## S1: 递归\n",
    "括号生成的合法条件:           \n",
    "1. left 随时可以加 但要 <= n            \n",
    "2. right 必须在left 后面, 且left个数>right个数"
   ],
   "cell_type": "markdown",
   "metadata": {}
  },
  {
   "cell_type": "code",
   "execution_count": 19,
   "metadata": {},
   "outputs": [],
   "source": [
    "class Solution1:\n",
    "    def generateParenthesis(self, n: int):\n",
    "        ans = []\n",
    "        self.generate(0,0, n, '', ans)\n",
    "        return ans\n",
    "\n",
    "    def generate(self, left, right, n, s, ans):\n",
    "        if left == right and left == n:\n",
    "            ans.append(s)\n",
    "            return \n",
    "        \n",
    "        if left < n:\n",
    "            self.generate(left + 1, right, n, s+'(', ans)\n",
    "        if left > right and right < n:\n",
    "            self.generate(left, right + 1, n, s+ ')', ans)"
   ]
  },
  {
   "source": [
    "## s2 回溯(DFS) \n",
    "解法思路和s1类似"
   ],
   "cell_type": "markdown",
   "metadata": {}
  },
  {
   "cell_type": "code",
   "execution_count": 25,
   "metadata": {},
   "outputs": [],
   "source": [
    "class Solution2:\n",
    "    def generateParenthesis(self, n):\n",
    "        ans = []\n",
    "        self.dfs(n, n, '', ans)\n",
    "        return ans\n",
    "\n",
    "    def dfs(self, left, right, path, ans):\n",
    "        if left == 0 and right == 0:\n",
    "            ans.append(path)\n",
    "            return\n",
    "\n",
    "        if left > 0:\n",
    "            self.dfs(left - 1, right, path + '(', ans)\n",
    "        if left < right:\n",
    "            self.dfs(left, right-1, path+')', ans)"
   ]
  },
  {
   "source": [
    "## s3 BFS"
   ],
   "cell_type": "markdown",
   "metadata": {}
  },
  {
   "cell_type": "code",
   "execution_count": null,
   "metadata": {},
   "outputs": [],
   "source": [
    "class Solution3:\n",
    "    def generateParenthesis(self, n):\n",
    "        ans = []\n",
    "        from collections import deque\n",
    "        queue = deque([(n,n, '')])\n",
    "        while queue:\n",
    "            left, right, s = queue.popleft()\n",
    "            if right == 0:\n",
    "                ans.append(s)\n",
    "            if left:\n",
    "                queue.append((left - 1, right, s+'('))\n",
    "            if right > left:\n",
    "                queue.append((left, right - 1, s + ')'))\n",
    "        return ans"
   ]
  },
  {
   "source": [
    "## s4 DP\n",
    "\n",
    "1. 定义状态 dp\\[i\\]: 使用 i 对括号能够生成的组合    \n",
    "    每一个状态都是列表    \n",
    "2. 状态转移方程    \n",
    "    - dp\\[i\\] 每个组合, 是在 dp\\[i-1\\] 的基础上得到的\n",
    "    - dp\\[i\\] 的一个组合 一定以'('开始, 但是不一定以')'结尾, 因此, 可以枚举')'的位置来得到所有组合.\n",
    "    - 枚举方式: 枚举'('和')'中间可能的合法的对数, 剩下的合法的对数在 与第一个'('配对的')'的后面, 此处就是用到了之前的状态. \n",
    "    - 方程: dp\\[i\\] = '(' + dp\\[可能的括号对数\\] + ')' + dp\\[剩下的括号对数\\]\n",
    "        - 可能的括号对数 j 取值范围\\[0, i-1\\]\n",
    "        - 剩下的括号对数 = i - j - 1\n",
    "3. 初始状态和输出\n",
    "    - 初始状态: 因为存在''这种零对括号的状态, 因此dp从零开始\n",
    "    - 输出: dp\\[n\\]"
   ],
   "cell_type": "markdown",
   "metadata": {}
  },
  {
   "cell_type": "code",
   "execution_count": null,
   "metadata": {},
   "outputs": [],
   "source": [
    "class Solution4:\n",
    "    def generateParenthesis(self, n):\n",
    "        if n == 0: return []\n",
    "\n",
    "        dp = [None for _ in range(n + 1)]\n",
    "        dp[0] = ['']\n",
    "\n",
    "        for i in range(1, n+1):\n",
    "            cur = []\n",
    "            for j in range(i):\n",
    "                left = dp[j]\n",
    "                right = dp[i - 1 -j]\n",
    "                for s1 in left:\n",
    "                    for s2 in right:\n",
    "                        cur.append('(' + s1 + ')' + s2)\n",
    "            dp[i] = cur\n",
    "        return dp[n]\n"
   ]
  }
 ]
}