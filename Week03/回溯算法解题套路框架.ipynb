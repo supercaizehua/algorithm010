{
 "metadata": {
  "language_info": {
   "codemirror_mode": {
    "name": "ipython",
    "version": 3
   },
   "file_extension": ".py",
   "mimetype": "text/x-python",
   "name": "python",
   "nbconvert_exporter": "python",
   "pygments_lexer": "ipython3",
   "version": 3
  },
  "orig_nbformat": 2,
  "kernelspec": {
   "name": "python_defaultSpec_1596111183099",
   "display_name": "Python 3.7.7 64-bit (conda)"
  }
 },
 "nbformat": 4,
 "nbformat_minor": 2,
 "cells": [
  {
   "source": [
    "回溯问题只需要考虑三点:   \n",
    "- 路径: 已经做出的选择   \n",
    "- 选择列表: 当前可以做的选择   \n",
    "- 结束条件: 到达底层, 无法继续往下的条件"
   ],
   "cell_type": "markdown",
   "metadata": {}
  },
  {
   "cell_type": "code",
   "execution_count": 1,
   "metadata": {},
   "outputs": [],
   "source": [
    "'''回溯算法的框架'''\n",
    "ans = []\n",
    "def backtrack(路径, 选择列表):\n",
    "    if 满足结束条件:\n",
    "        ans.add(路径[:])   # python 此处一般需要浅拷贝\n",
    "        return\n",
    "    \n",
    "    for 选择 in 选择列表:\n",
    "        做选择\n",
    "        backtrack(路径, 选择列表)\n",
    "        撤销选择"
   ]
  },
  {
   "source": [
    "# 全排列问题\n",
    "-------------\n",
    "以不包含重复数字的问题为例\n",
    "\n",
    "![](https://raw.githubusercontent.com/supercaizehua/images-for-blog/master/img/20200730202058.png)\n",
    "\n",
    "此处, \\[2\\]就是路径, \\[1,3\\]就是选择列表, 结束条件就是选择列表为空的时候.\n"
   ],
   "cell_type": "markdown",
   "metadata": {}
  },
  {
   "source": [
    "可以把路径, 选择列表, 作为决策树上每个节点的属性\n",
    "\n",
    "![](https://raw.githubusercontent.com/supercaizehua/images-for-blog/master/img/20200730202537.png)\n",
    "\n"
   ],
   "cell_type": "markdown",
   "metadata": {}
  },
  {
   "cell_type": "code",
   "execution_count": 2,
   "metadata": {},
   "outputs": [],
   "source": [
    "'''遍历树'''\n",
    "def traverse(root):\n",
    "    for child in root.children:\n",
    "        traverse(child)"
   ]
  },
  {
   "source": [
    "函数在决策树上走的时候, 要正确维护节点的属性, 在进入节点之前做选择, 离开节点的时候要撤销选择.\n",
    "\n",
    "![](https://raw.githubusercontent.com/supercaizehua/images-for-blog/master/img/20200730203230.png)\n"
   ],
   "cell_type": "markdown",
   "metadata": {}
  },
  {
   "source": [
    "对应的代码框架"
   ],
   "cell_type": "markdown",
   "metadata": {}
  },
  {
   "cell_type": "code",
   "execution_count": null,
   "metadata": {},
   "outputs": [],
   "source": [
    "for 选择 in 选择列表:\n",
    "    # 做选择\n",
    "    将该选择从选择列表移除\n",
    "    路径.add(选择)\n",
    "    backtrack(路径, 选择列表)\n",
    "    # 撤销选择\n",
    "    路径.remove(选择)\n",
    "    将该选择再加入选择列表"
   ]
  },
  {
   "cell_type": "code",
   "execution_count": 5,
   "metadata": {},
   "outputs": [],
   "source": [
    "'''全排列代码'''\n",
    "class solution:\n",
    "    def permute(self, nums):\n",
    "        ans = []\n",
    "        track = []\n",
    "        self.backtrack(nums, track, ans)\n",
    "        return ans\n",
    "\n",
    "    def backtrack(self, nums, track):\n",
    "        # 结束条件\n",
    "        if len(track) == len(nums):\n",
    "            ans.append(track[:])\n",
    "            return\n",
    "\n",
    "        for i in range(len(nums)):\n",
    "            # 排除不合法的选择, 由于没有显式记录选择列表, 所以这里要避免重复\n",
    "            if nums[i] in track: continue\n",
    "\n",
    "            # 选择\n",
    "            track.append(nums[i])\n",
    "\n",
    "            # 进入分支节点\n",
    "            self.backtrack(nums, track, ans)\n",
    "\n",
    "            # 撤销选择\n",
    "            track.pop()"
   ]
  },
  {
   "source": [
    "此处没有显式\\[选择列表\\], 通过 nums 和 track 来推导出当前的选择列表"
   ],
   "cell_type": "markdown",
   "metadata": {}
  },
  {
   "source": [
    "# N 皇后问题\n",
    "---------------------\n",
    "皇后可以攻击同一行、同一列、左上左下右上右下四个方向的任意单位\n",
    "\n",
    "决策树的每一层表示行, 每个节点可以做出的选择列表:在该行的任意列放置一个皇后"
   ],
   "cell_type": "markdown",
   "metadata": {}
  },
  {
   "cell_type": "code",
   "execution_count": null,
   "metadata": {},
   "outputs": [],
   "source": [
    "class Solution:\n",
    "    def solveNQueens(self, n: int) -> List[List[str]]:\n",
    "        ans = []\n",
    "        board = ['.' * n] * n\n",
    "        self.backtrack(board, 0, ans)\n",
    "        return ans\n",
    "\n",
    "    def backtrack(self, board, row, ans):\n",
    "        if row == len(board):\n",
    "            ans.append(board[:])\n",
    "            return\n",
    "\n",
    "        for col in range(len(board)):\n",
    "            # 排除不合法的选择\n",
    "            if not self.isValid(board, row, col):\n",
    "                continue\n",
    "\n",
    "            # choose\n",
    "            #board[row][col] = 'Q'\n",
    "            self.replace(board, row, col, 'Q')\n",
    "\n",
    "            # drill down\n",
    "            self.backtrack(board, row + 1, ans)\n",
    "\n",
    "            # recovery\n",
    "            # board[row][col] = '.'\n",
    "            self.replace(board, row, col, '.')\n",
    "\n",
    "    def isValid(self, board, row, col):\n",
    "        n = len(board) #行数\n",
    "        # 检查同列冲突\n",
    "        for i in range(n):\n",
    "            if board[i][col] == 'Q': return False\n",
    "        \n",
    "        # 检查同行\n",
    "        # 由于搜索顺序, 所以此处不需要检查, 因为本来就是空行\n",
    "\n",
    "        # 检查右上\n",
    "        i, j = row - 1, col + 1\n",
    "        while i >= 0 and j < n:\n",
    "            if board[i][j] == 'Q': return False\n",
    "            i -= 1\n",
    "            j += 1\n",
    "\n",
    "        # 检查左上\n",
    "        i, j = row - 1, col - 1\n",
    "        while i >= 0 and j >= 0:\n",
    "            if board[i][j] == 'Q': return False\n",
    "            i -= 1\n",
    "            j -= 1\n",
    "        \n",
    "        # 由于所搜顺序, 该行以下都还没放, 所以不需要考虑左下, 右下\n",
    "        return True\n",
    "\n",
    "    def replace(self, board, row, col, char):\n",
    "        board[row] = list(board[row])\n",
    "        board[row][col] = char\n",
    "        board[row] = ''.join(board[row])\n",
    "        return\n"
   ]
  },
  {
   "cell_type": "code",
   "execution_count": null,
   "metadata": {},
   "outputs": [],
   "source": [
    "class Solution:\n",
    "    def solveNQueens(self, n: int) -> List[List[str]]:\n",
    "        ans = []\n",
    "        board = [['.'] * n] * n\n",
    "        main = [True] * (2 * n - 1)\n",
    "        second = [True] * (2 * n - 1)\n",
    "        col_line = [True] * n\n",
    "        self.backtrack(board, 0, main, second, col_line, ans)\n",
    "        return ans\n",
    "    \n",
    "    def backtrack(self, board, row, main, second, col_line,  ans):\n",
    "        if row == len(board):\n",
    "            ans.append([''.join(i) for i in board[:]])\n",
    "            return\n",
    "\n",
    "        for col in range(len(board)):\n",
    "            if not main[col - row] and not second[col + row] and not col_line[col]: continue\n",
    "\n",
    "            board[row][col] = 'Q'\n",
    "            main[col - row] = False\n",
    "            second[col + row] = False\n",
    "            col_line[col] = False\n",
    "\n",
    "            self.backtrack(board, row + 1, main, second, col_line, ans)\n",
    "\n",
    "            board[row][col] = '.'\n",
    "            main[col - row] = True\n",
    "            second[col + row] = True\n",
    "            col_line[col] = True\n",
    "\n"
   ]
  },
  {
   "cell_type": "code",
   "execution_count": 37,
   "metadata": {},
   "outputs": [],
   "source": [
    "class Solution:\n",
    "    def solveNQueens(self, n: int) -> List[List[str]]:\n",
    "        def backtrack(row):\n",
    "            if row == n:\n",
    "                ans.append([''.join(i) for i in board[:]])\n",
    "                return\n",
    "\n",
    "            for col in range(n):\n",
    "                if not cols[col] or not main[col - row] or not second[col + row]: continue\n",
    "\n",
    "                board[row][col] = 'Q'\n",
    "                main[col - row] = False\n",
    "                second[col + row] = False\n",
    "                cols[col] = False\n",
    "\n",
    "                backtrack(row + 1)\n",
    "\n",
    "                cols[col] = True\n",
    "                second[col + row] = True\n",
    "                main[col - row] = True\n",
    "                board[row][col] = '.'\n",
    "\n",
    "        ans = []\n",
    "        board = [['.'] * n for i in range(n)]\n",
    "        main = [True] * (2 * n - 1)\n",
    "        second = main.copy()\n",
    "        cols = [True] * n\n",
    "        backtrack(0)\n",
    "        return ans"
   ]
  }
 ]
}