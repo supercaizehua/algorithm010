{
 "metadata": {
  "language_info": {
   "codemirror_mode": {
    "name": "ipython",
    "version": 3
   },
   "file_extension": ".py",
   "mimetype": "text/x-python",
   "name": "python",
   "nbconvert_exporter": "python",
   "pygments_lexer": "ipython3",
   "version": 3
  },
  "orig_nbformat": 2,
  "kernelspec": {
   "name": "python_defaultSpec_1595905745487",
   "display_name": "Python 3.7.7 64-bit (conda)"
  }
 },
 "nbformat": 4,
 "nbformat_minor": 2,
 "cells": [
  {
   "source": [
    "# 236 二叉树的最近公共祖先 @supercaizehua\n",
    "---------------------------------\n",
    "给定二叉树, 找到两个指定结点的最近公共祖先                    \n",
    "最近公共祖先:                   \n",
    "    对于两个节点p和q, 最近公共祖先x 是p,q 的祖先, 且x的level尽可能大                \n",
    "    一个节点也可以是自己的祖先         \n",
    "\n",
    "其它条件:  \n",
    "所有节点的val唯一  \n",
    "p,q为不同节点, 且存在于给定的二叉树中"
   ],
   "cell_type": "markdown",
   "metadata": {}
  },
  {
   "source": [
    "## s1 递归\n",
    "https://leetcode-cn.com/problems/lowest-common-ancestor-of-a-binary-tree/solution/236-er-cha-shu-de-zui-jin-gong-gong-zu-xian-hou-xu/\n",
    "\n",
    "\n",
    "当某节点 node 是 p,q 的 最近公共祖先, 此时只可能有3种情况:  \n",
    "    1. p,q 分别在 node 的左右子树中(p左q右  或者 p右q左)  \n",
    "    2. p = node, q在p的子树中     \n",
    "    3. q = node, p在q的子树中"
   ],
   "cell_type": "markdown",
   "metadata": {}
  },
  {
   "source": [
    "递归:\n",
    "- 终止条件:\n",
    "    1. 当越过叶节点时, 返回None\n",
    "    2. root = q, p 时, 返回root\n",
    "- drill down:\n",
    "    1.开始递归左子节点, 返回记作left\n",
    "    2.开始递归右子节点, 返回记作right\n",
    "- 返回值:          \n",
    "    1.当left/right都为None, 说明root左右子树都不包含p, q           \n",
    "    2.当left/right都不为空, 说明p, q在root的两侧, root是最近公共祖先           \n",
    "    3.left空, right不为空, 则             \n",
    "        - p, q其中一个在右子树, 此时right = p/q            \n",
    "        - p, q都在右子树, 此时right是最近公共祖先结点       \n",
    "    4.left不为空, right为空, 同3     \n",
    "\n",
    "时间O(n)\n",
    "空间O(n)\n",
    "    \n"
   ],
   "cell_type": "markdown",
   "metadata": {}
  },
  {
   "cell_type": "code",
   "execution_count": null,
   "metadata": {},
   "outputs": [],
   "source": [
    "class solution1_1:\n",
    "    def lowestCommonAncestor(self, root, p, q):\n",
    "        if not root or root==p or root == q: return root\n",
    "\n",
    "        left = self.lowestCommonAncestor(root.left, p, q)\n",
    "        right = self.lowestCommonAncestor(root.right, p, q)\n",
    "\n",
    "        if not left and not right: return\n",
    "        if not left: return right\n",
    "        if not right: return left\n",
    "        return root"
   ]
  },
  {
   "cell_type": "code",
   "execution_count": 1,
   "metadata": {},
   "outputs": [],
   "source": [
    "class solution1_2:\n",
    "    def lowestCommonAncestor(self, root, p, q):\n",
    "        if not root or root==p or root == q: return root\n",
    "\n",
    "        left = self.lowestCommonAncestor(root.left, p, q)\n",
    "        right = self.lowestCommonAncestor(root.right, p, q)\n",
    "\n",
    "        #情况1可以合并到3,4内\n",
    "        if not left: return right\n",
    "        if not right: return left\n",
    "        return root"
   ]
  },
  {
   "source": [
    "## s2 存储父节点\n",
    "把所有节点的父节点存储到一个hash表中, 然后从p, q不对往上寻找"
   ],
   "cell_type": "markdown",
   "metadata": {}
  },
  {
   "cell_type": "code",
   "execution_count": null,
   "metadata": {},
   "outputs": [],
   "source": [
    "class solution2_1:\n",
    "    def lowestCommonAncestor(self, root, p, q):\n",
    "        parent = {root: root}\n",
    "        from collections import deque\n",
    "        queue = deque([root])\n",
    "        while queue:\n",
    "            node = queue.popleft()\n",
    "            if node.left:\n",
    "                parent[node.left] = node\n",
    "                queue.append(node.left)\n",
    "            if node.right:\n",
    "                parent[node.right] = node\n",
    "                queue.append(node.right)\n",
    "        \n",
    "        visited = set()\n",
    "        while p != root:\n",
    "            visited.add(p)\n",
    "            p = parent[p]\n",
    "        \n",
    "        while q != root:\n",
    "            if q in visited:\n",
    "                return q\n",
    "            q = parent[q]\n",
    "\n",
    "        return q"
   ]
  }
 ]
}