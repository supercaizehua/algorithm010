{
 "metadata": {
  "language_info": {
   "codemirror_mode": {
    "name": "ipython",
    "version": 3
   },
   "file_extension": ".py",
   "mimetype": "text/x-python",
   "name": "python",
   "nbconvert_exporter": "python",
   "pygments_lexer": "ipython3",
   "version": 3
  },
  "orig_nbformat": 2,
  "kernelspec": {
   "name": "python_defaultSpec_1595911446022",
   "display_name": "Python 3.7.7 64-bit (conda)"
  }
 },
 "nbformat": 4,
 "nbformat_minor": 2,
 "cells": [
  {
   "source": [
    "# 105 从前序与中序遍历序列构造二叉树 @supercaizehua\n",
    "-------------------------------------------------\n",
    "输入 一棵树的前序遍历和中序遍历               \n",
    "输出 root\n",
    "\n",
    "其它条件:   \n",
    "树中没有重复的元素"
   ],
   "cell_type": "markdown",
   "metadata": {}
  },
  {
   "source": [
    "## s1 递归\n",
    "前序遍历:  \n",
    "根结点|左子树的前序遍历|右子树的前序遍历  \n",
    "\n",
    "中序遍历:  \n",
    "左子树的中序遍历|根结点|右子树的中序遍历  \n",
    "\n",
    "![](https://raw.githubusercontent.com/supercaizehua/images-for-blog/master/img/%E4%B8%AD%E5%BA%8F%E9%81%8D%E5%8E%86%2B%E5%89%8D%E5%BA%8F%E9%81%8D%E5%8E%86.png)\n",
    "\n",
    "\n",
    "时间复杂度：O(N^2)    这里 N 是二叉树的结点个数，每调用一次递归方法创建一个结点，一共创建 NN 个结点，在中序遍历中找到根结点在中序遍历中的位置，是与 N 相关的，这里不计算递归方法占用的时间。\n",
    "\n",
    "空间复杂度：O(1)这里不计算递归方法占用的空间。\n",
    "\n",
    "作者：liweiwei1419\n",
    "链接：https://leetcode-cn.com/problems/construct-binary-tree-from-preorder-and-inorder-traversal/solution/qian-xu-bian-li-python-dai-ma-java-dai-ma-by-liwei/\n",
    "来源：力扣（LeetCode）\n",
    "著作权归作者所有。商业转载请联系作者获得授权，非商业转载请注明出处。\n"
   ],
   "cell_type": "markdown",
   "metadata": {}
  },
  {
   "cell_type": "code",
   "execution_count": null,
   "metadata": {},
   "outputs": [],
   "source": [
    "class solution1:\n",
    "    def buildTree(self, preorder, inorder) -> TreeNode:\n",
    "        def helper(preorder_left, preorder_right, inorder_left, inorder_right):\n",
    "            if preorder_left > preorder_right: return None\n",
    "\n",
    "            # 在前序遍历和中序遍历中, 定位根节点\n",
    "            preorder_root = preorder_left\n",
    "            inorder_root = index[preorder[preorder_root]]\n",
    "\n",
    "            root = TreeNode(preorder[preorder_root])\n",
    "            size_left_subtree = inorder_root - inorder_left\n",
    "\n",
    "            root.left = helper(preorder_left + 1, preorder_left + size_left_subtree, inorder_left, inorder_root - 1)\n",
    "            root.right = helper(preorder_left + size_left_subtree + 1, preorder_right, inorder_root + 1, inorder_right)\n",
    "\n",
    "            return root\n",
    "\n",
    "        n = len(preorder)\n",
    "        index = {num: index for index, num in enumerate(inorder)}\n",
    "        return helper(0, n-1, 0, n -1)\n"
   ]
  },
  {
   "source": [
    "## s2 迭代\n",
    "对于前序遍历中, 任意两个连续结点u,v, 只有两种关系:   \n",
    "1. v 是 u 的左儿子     \n",
    "2. u 没有左儿子, v 是 u 的祖先节点 u' (u本身也是自己的祖先节点)) 的右儿子.      \n",
    "    - 如果 u 没有左儿子, 那么下一个遍历的结点就是 u 的右儿子.      \n",
    "    - 如果 u 没有右儿子, 那么就会向上层回溯, 直到第一个有右儿子的 u', 那么 v 就是 u' 的右儿子.\n",
    "    "
   ],
   "cell_type": "markdown",
   "metadata": {}
  },
  {
   "source": [
    "栈 stack [当前节点的 所有还没有考虑过右儿子的祖先节点]  \n",
    "只有栈中的结点才有可能连接新的右儿子\n",
    "\n",
    "指针指向的结点 : 当前节点不断往左走达到的最终节点.  (符合中序遍历的形式)\n",
    "\n",
    "1. 栈和一个指针\n",
    "2. 初始时, 栈中存放了根节点, 指针指向中序遍历的第一个结点\n",
    "3. 依次枚举前序遍历中左子树和右子树的结点. 如果index恰好指向栈顶结点, 那么不断弹出栈顶结点并且向右移动index, 并将当前节点作为最后一个弹出结点的右儿子; 如果index和栈顶节点不同, 则将当前节点作为栈顶结点的做儿子.\n",
    "4. 无论哪种情况, 当前节点最后都要入栈"
   ],
   "cell_type": "markdown",
   "metadata": {}
  },
  {
   "cell_type": "code",
   "execution_count": null,
   "metadata": {},
   "outputs": [],
   "source": [
    "class solution2:\n",
    "    def buildTree(self, preorder, inorder):\n",
    "        if not preorder: return None\n",
    "\n",
    "        root = TreeNode(preorder[0])\n",
    "        stack = [root]\n",
    "        inorderIndex = 0\n",
    "        for i in range(1, len(preorder)):\n",
    "            preorder_val = preorder[i]\n",
    "            node = stack[-1]\n",
    "            if node.val != inorder[inorderIndex]:\n",
    "                node.left = TreeNode(preorder_val)\n",
    "                stack.append(node.left)\n",
    "            else:\n",
    "                while stack and stack[-1].val == inorder[inorderIndex]:\n",
    "                    node = stack.pop()\n",
    "                    inorderIndex += 1\n",
    "                node.right = TreeNode(preorder_val)\n",
    "                stack.append(node.right)\n",
    "        return root"
   ]
  }
 ]
}