{
 "metadata": {
  "language_info": {
   "codemirror_mode": {
    "name": "ipython",
    "version": 3
   },
   "file_extension": ".py",
   "mimetype": "text/x-python",
   "name": "python",
   "nbconvert_exporter": "python",
   "pygments_lexer": "ipython3",
   "version": 3
  },
  "orig_nbformat": 2
 },
 "nbformat": 4,
 "nbformat_minor": 2,
 "cells": [
  {
   "source": [
    "# 98 验证二叉搜索树 @supercaizehua\n",
    "---------------------------------\n",
    "给定一个二叉树，判断其是否是一个有效的二叉搜索树。\n",
    "\n",
    "假设一个二叉搜索树具有如下特征：\n",
    "\n",
    "节点的左子树只包含小于当前节点的数。             \n",
    "节点的右子树只包含大于当前节点的数。           \n",
    "所有左子树和右子树自身必须也是二叉搜索树.             "
   ],
   "cell_type": "markdown",
   "metadata": {}
  },
  {
   "source": [
    "## S1: 递归\n",
    "1.终止条件:  \n",
    "- node为None, 返回True           \n",
    "- 节点超过上下界\n",
    "\n",
    "2.处理当前层:\n",
    "- 当前节点的值, 是其左子树的上届, 右子树的下届\n",
    "\n",
    "3.drill down:\n",
    "- 判断下一层的bool值    \n",
    "         \n",
    "4.restore curr:\n",
    "- 本题不需要恢复当前层             \n",
    "\n",
    "                          \n",
    "- 时间 O(n) 每个节点遍历一次\n",
    "- 空间 O(n) 栈的深度为树的高度"
   ],
   "cell_type": "markdown",
   "metadata": {}
  },
  {
   "cell_type": "code",
   "execution_count": null,
   "metadata": {},
   "outputs": [],
   "source": [
    "class Solution1:\n",
    "    def isValidBST(self, root: TreeNode) -> bool:\n",
    "        def helper(node, min_val, max_val):\n",
    "            if not node: return True\n",
    "            if not (min_val < node.val < max_val): return False\n",
    "\n",
    "            return helper(node.left, min_val, node.val) and helper(\\\n",
    "                node.right, node.val, max_val)\n",
    "        return helper(root, float('-inf'), float('inf'))"
   ]
  },
  {
   "source": [
    "## S2: 中序遍历\n",
    "由于bst的定义可以知道, bst的中序遍历是一个递增的序列    \n",
    "时间O(n)        \n",
    "空间O(1))"
   ],
   "cell_type": "markdown",
   "metadata": {}
  },
  {
   "cell_type": "code",
   "execution_count": null,
   "metadata": {},
   "outputs": [],
   "source": [
    "class Solution2:\n",
    "    def isValidBST(self, root: TreeNode) -> bool:\n",
    "        stack, inorder = [], float('-inf')\n",
    "\n",
    "        while stack or root:\n",
    "            while root:  # 一直搜索到最后一层最左边的节点\n",
    "                stack.append(root)\n",
    "                root = root.left\n",
    "            root = stack.pop()\n",
    "            if root.val <= inorder:\n",
    "                return False\n",
    "            inorder = root.val\n",
    "            root = root.right\n",
    "\n",
    "        return True\n"
   ]
  },
  {
   "cell_type": "code",
   "execution_count": null,
   "metadata": {},
   "outputs": [],
   "source": [
    "class Solution2_2:\n",
    "    def isValidBST(self, root):\n",
    "        pre = float('-inf')\n",
    "        \n",
    "        def inorder(node, pre):\n",
    "            if not node: return True\n",
    "            # left\n",
    "            if not inorder(node.left, pre): return False\n",
    "\n",
    "            #当前节点\n",
    "\n",
    "            if node.val <= pre: return False\n",
    "\n",
    "            pre = node.val\n",
    "\n",
    "            return inorder(node.right, pre)\n",
    "\n",
    "        return inorder(root, pre)"
   ]
  }
 ]
}