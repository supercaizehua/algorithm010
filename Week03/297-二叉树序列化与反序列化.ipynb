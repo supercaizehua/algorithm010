{
 "metadata": {
  "language_info": {
   "codemirror_mode": {
    "name": "ipython",
    "version": 3
   },
   "file_extension": ".py",
   "mimetype": "text/x-python",
   "name": "python",
   "nbconvert_exporter": "python",
   "pygments_lexer": "ipython3",
   "version": 3
  },
  "orig_nbformat": 2,
  "kernelspec": {
   "name": "python_defaultSpec_1595827037887",
   "display_name": "Python 3.7.7 64-bit (conda)"
  }
 },
 "nbformat": 4,
 "nbformat_minor": 2,
 "cells": [
  {
   "source": [
    "# 二叉树序列化与反序列化 @supercaizehua\n",
    "---------------------------------\n"
   ],
   "cell_type": "markdown",
   "metadata": {}
  },
  {
   "cell_type": "code",
   "execution_count": 2,
   "metadata": {},
   "outputs": [],
   "source": [
    "# Definition for a binary tree node.\n",
    "class TreeNode(object):\n",
    "    def __init__(self, x):\n",
    "        self.val = x\n",
    "        self.left = None\n",
    "        self.right = None"
   ]
  },
  {
   "source": [
    "# class Codec:\n",
    "\n",
    "#     def serialize(self, root):\n",
    "#         \"\"\"Encodes a tree to a single string.\n",
    "        \n",
    "#         :type root: TreeNode\n",
    "#         :rtype: str\n",
    "#         \"\"\"\n",
    "        \n",
    "\n",
    "#     def deserialize(self, data):\n",
    "#         \"\"\"Decodes your encoded data to tree.\n",
    "        \n",
    "#         :type data: str\n",
    "#         :rtype: TreeNode\n",
    "#         \"\"\""
   ],
   "cell_type": "code",
   "metadata": {},
   "execution_count": 1,
   "outputs": []
  },
  {
   "source": [
    "## 递归 + 前序遍历"
   ],
   "cell_type": "markdown",
   "metadata": {}
  },
  {
   "cell_type": "code",
   "execution_count": 3,
   "metadata": {},
   "outputs": [],
   "source": [
    "class Codec1_1:\n",
    "    def serialize(self, root):\n",
    "        if not root: return 'x'\n",
    "        return root.val, self.serialize(root.left), self.serialize(root.right)\n",
    "\n",
    "    def deserialize(self, data):\n",
    "        # data  (1, (2, 'x', 'x'), (3, (4, 'x', 'x'), (5, 'x', 'x')))\n",
    "        if data[0] == 'x': return None\n",
    "        \n",
    "        node = TreeNode(data[0])\n",
    "        node.left = self.deserialize(data[1])\n",
    "        node.right = self.deserialize(data[2])\n",
    "        return node"
   ]
  },
  {
   "cell_type": "code",
   "execution_count": null,
   "metadata": {},
   "outputs": [],
   "source": [
    "'''非tuple写法'''\n",
    "class Codec1_1_1:\n",
    "    def serialize(self, root):\n",
    "        if not root: return 'x'\n",
    "        return ','.join([str(root.val), self.serialize(root.left), self.serialize(root.right)])\n",
    "\n",
    "    def deserialize(self, data):\n",
    "        # data   1, 2, 'x', 'x', 3, 4, 'x', 'x', 5, 'x', 'x'\n",
    "        # The reason I use self.data in the deserialize is, data stream will be consumed  as we build left side of Tree\n",
    "        # by the time when the right side is building up, we need to hold what is left over.\n",
    "        # Therefore, self.data is a global value, right side will use what is left over after tree is partially built\n",
    "        '''这个self.data太难理解了， 先放着再说'''\n",
    "        self.data = data\n",
    "        if self.data[0] == 'x': return None\n",
    "        node = TreeNode(self.data[:self.data.find(',')]) \n",
    "        node.left = self.deserialize(self.data[self.data.find(',')+1:])\n",
    "        node.right = self.deserialize(self.data[self.data.find(',')+1:])\n",
    "        return node"
   ]
  },
  {
   "source": [
    "## 递归 + 中序遍历"
   ],
   "cell_type": "markdown",
   "metadata": {}
  },
  {
   "cell_type": "code",
   "execution_count": null,
   "metadata": {},
   "outputs": [],
   "source": [
    "class Codec1_2:\n",
    "    def serialize(self, root):\n",
    "        if not root: return 'x'\n",
    "        return self.serialize(root.left), root.val, self.serialize(root.right)\n",
    "\n",
    "    def deserialize(self, data):\n",
    "        # data  (('x', 2, 'x'), 1, (('x', 4, 'x'), 3, ('x', 5, 'x')))\n",
    "        if len(data) == 1 and data[0] == 'x': return None\n",
    "        \n",
    "        node = TreeNode(data[1])\n",
    "        node.left = self.deserialize(data[0])\n",
    "        node.right = self.deserialize(data[2])\n",
    "        return node"
   ]
  },
  {
   "source": [
    "## 递归+　后序"
   ],
   "cell_type": "markdown",
   "metadata": {}
  },
  {
   "cell_type": "code",
   "execution_count": 5,
   "metadata": {},
   "outputs": [],
   "source": [
    "class Codec1_３:\n",
    "    def serialize(self, root):\n",
    "        if not root: return 'x'\n",
    "        return self.serialize(root.left), self.serialize(root.right), root.val \n",
    "\n",
    "    def deserialize(self, data):\n",
    "        # data  (('x','x', 2), (('x','x',4), ('x', 'x', 5), 3), 1)\n",
    "        if len(data) == 1 and data[0] == 'x': return None\n",
    "        \n",
    "        node = TreeNode(data[2])\n",
    "        node.left = self.deserialize(data[0])\n",
    "        node.right = self.deserialize(data[1])\n",
    "        return node"
   ]
  },
  {
   "source": [
    "## bfs + 队列"
   ],
   "cell_type": "markdown",
   "metadata": {}
  },
  {
   "cell_type": "code",
   "execution_count": null,
   "metadata": {},
   "outputs": [],
   "source": [
    "class Codec2:\n",
    "\n",
    "    def serialize(self, root):\n",
    "        \"\"\"Encodes a tree to a single string.\n",
    "        \n",
    "        :type root: TreeNode\n",
    "        :rtype: str\n",
    "        \"\"\"\n",
    "        if not root: return  'x'\n",
    "\n",
    "        from collections import deque\n",
    "        queue = deque([root])\n",
    "        nodes = []\n",
    "        while queue:\n",
    "            cur = queue.popleft()\n",
    "            if cur:\n",
    "                nodes.append(str(cur.val))\n",
    "            else:\n",
    "                nodes.append('x')\n",
    "                continue\n",
    "            queue.append(cur.left)\n",
    "            queue.append(cur.right)\n",
    "        return ','.join(nodes)\n",
    "\n",
    "    def deserialize(self, data):\n",
    "        \"\"\"Decodes your encoded data to tree.\n",
    "        \n",
    "        :type data: str\n",
    "        :rtype: TreeNode\n",
    "        \"\"\"\n",
    "        if data[0] == 'x': return None\n",
    "\n",
    "        nodes = data.split(',')\n",
    "        from collections import deque\n",
    "        root = TreeNode(int(nodes[0]))\n",
    "        queue = deque([root])\n",
    "        p = 1\n",
    "        while queue:\n",
    "            node = queue.popleft()\n",
    "            if nodes[p] != 'x':\n",
    "                node.left = TreeNode(int(nodes[p]))\n",
    "                queue.append(node.left)\n",
    "            p += 1\n",
    "            if nodes[p] != 'x':\n",
    "                node.right = TreeNode(int(nodes[p]))\n",
    "                queue.append(node.right)\n",
    "            p += 1\n",
    "        return root\n",
    "\n"
   ]
  }
 ]
}