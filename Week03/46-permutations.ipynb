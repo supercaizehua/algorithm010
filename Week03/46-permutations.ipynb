{
 "metadata": {
  "language_info": {
   "codemirror_mode": {
    "name": "ipython",
    "version": 3
   },
   "file_extension": ".py",
   "mimetype": "text/x-python",
   "name": "python",
   "nbconvert_exporter": "python",
   "pygments_lexer": "ipython3",
   "version": 3
  },
  "orig_nbformat": 2,
  "kernelspec": {
   "name": "python_defaultSpec_1595903576034",
   "display_name": "Python 3.7.7 64-bit (conda)"
  }
 },
 "nbformat": 4,
 "nbformat_minor": 2,
 "cells": [
  {
   "source": [
    "# 46 全排列 @supercaizehua\n",
    "-------------------------\n",
    "给定一个   *没有重复* 数字的序列, 返回所有可能的排列\n"
   ],
   "cell_type": "markdown",
   "metadata": {}
  },
  {
   "source": [
    "可能的解法      \n",
    "1. 暴力法  循环 时间O(n!)   \n",
    "2. 递归   \n",
    "3. dp       \n",
    "4. 回溯  \n",
    "5. python 自带库函数 itertools"
   ],
   "cell_type": "markdown",
   "metadata": {}
  },
  {
   "source": [
    "## S1 回溯\n",
    "\n",
    "时间 O(n * n!)     \n",
    "空间 O(n)"
   ],
   "cell_type": "markdown",
   "metadata": {}
  },
  {
   "cell_type": "code",
   "execution_count": null,
   "metadata": {},
   "outputs": [],
   "source": [
    "class solution1:\n",
    "    def permute(self, nums):\n",
    "        '''\n",
    "        :type    nums: List[int]\n",
    "        :rtype   List[List[int]]\n",
    "        '''\n",
    "        def backtrace(first = 0):\n",
    "            if first == n:\n",
    "                res.append(nums[:]) #重新复制一份\n",
    "            for i in range(first, n):\n",
    "                nums[first], nums[i] = nums[i], nums[first]\n",
    "\n",
    "                backtrace(first + 1)\n",
    "\n",
    "                nums[i], nums[first] = nums[first], nums[i]\n",
    "            \n",
    "        n = len(nums)\n",
    "        res = []\n",
    "        backtrace()\n",
    "        return res\n"
   ]
  },
  {
   "cell_type": "code",
   "execution_count": 6,
   "metadata": {},
   "outputs": [],
   "source": [
    "class solution1_1:\n",
    "    def permute(self, nums):\n",
    "        return [[n] + p for i, n in enumerate(nums)\n",
    "        for p in self.permute(nums[:i] + nums[i+1:])] or [[]]"
   ]
  },
  {
   "source": [
    "# S2 python 自带库函数\n",
    "product 笛卡尔积   有放回抽样排列           \n",
    "permutations 排列   不放回抽样排列           \n",
    "combinations 组合, 没有重复       不放回抽样组合          \n",
    "combinations_with_replacement 组合, 有重复     有放回抽样组合        "
   ],
   "cell_type": "markdown",
   "metadata": {}
  },
  {
   "cell_type": "code",
   "execution_count": 4,
   "metadata": {},
   "outputs": [],
   "source": [
    "class solution2:\n",
    "    def permute(self, nums):\n",
    "        import itertools\n",
    "        return [list(i) for i in itertools.permutations(nums, len(nums))]\n",
    "\n",
    "    def permute1(self, nums):\n",
    "        return list(itertools.permutations(nums))\n",
    "\n",
    "    def permute(self, nums):\n",
    "        return map(list, itertools.permutations(nums))"
   ]
  },
  {
   "cell_type": "code",
   "execution_count": null,
   "metadata": {},
   "outputs": [],
   "source": []
  }
 ]
}